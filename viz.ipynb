{
 "cells": [
  {
   "cell_type": "code",
   "execution_count": 1,
   "source": [
    "import numpy as np\r\n",
    "import itertools\r\n",
    "import collections\r\n",
    "import pandas as pd\r\n",
    "from scipy.sparse import csr_matrix, coo_matrix"
   ],
   "outputs": [],
   "metadata": {}
  },
  {
   "cell_type": "code",
   "execution_count": 2,
   "source": [
    "file_name = \"0_2021-02-22_2021-02-28.csv\""
   ],
   "outputs": [],
   "metadata": {}
  },
  {
   "cell_type": "code",
   "execution_count": 3,
   "source": [
    "week = 0\r\n",
    "df = pd.read_csv(file_name)\r\n",
    "df.drop(df.columns[0], axis = 1, inplace= True)\r\n",
    "df.rename(columns = {\"0\":\"page\", \"1\":\"user\"}, inplace=True)\r\n",
    "df.dropna(axis = 0, inplace=True)\r\n",
    "df.head()"
   ],
   "outputs": [
    {
     "output_type": "execute_result",
     "data": {
      "text/html": [
       "<div>\n",
       "<style scoped>\n",
       "    .dataframe tbody tr th:only-of-type {\n",
       "        vertical-align: middle;\n",
       "    }\n",
       "\n",
       "    .dataframe tbody tr th {\n",
       "        vertical-align: top;\n",
       "    }\n",
       "\n",
       "    .dataframe thead th {\n",
       "        text-align: right;\n",
       "    }\n",
       "</style>\n",
       "<table border=\"1\" class=\"dataframe\">\n",
       "  <thead>\n",
       "    <tr style=\"text-align: right;\">\n",
       "      <th></th>\n",
       "      <th>page</th>\n",
       "      <th>user</th>\n",
       "    </tr>\n",
       "  </thead>\n",
       "  <tbody>\n",
       "    <tr>\n",
       "      <th>0</th>\n",
       "      <td>2812961</td>\n",
       "      <td>1367572112</td>\n",
       "    </tr>\n",
       "    <tr>\n",
       "      <th>1</th>\n",
       "      <td>2812961</td>\n",
       "      <td>1220374182330015744</td>\n",
       "    </tr>\n",
       "    <tr>\n",
       "      <th>2</th>\n",
       "      <td>2812961</td>\n",
       "      <td>593858001</td>\n",
       "    </tr>\n",
       "    <tr>\n",
       "      <th>3</th>\n",
       "      <td>2812961</td>\n",
       "      <td>793367160341094400</td>\n",
       "    </tr>\n",
       "    <tr>\n",
       "      <th>4</th>\n",
       "      <td>2812961</td>\n",
       "      <td>1135103330357796864</td>\n",
       "    </tr>\n",
       "  </tbody>\n",
       "</table>\n",
       "</div>"
      ],
      "text/plain": [
       "      page                 user\n",
       "0  2812961           1367572112\n",
       "1  2812961  1220374182330015744\n",
       "2  2812961            593858001\n",
       "3  2812961   793367160341094400\n",
       "4  2812961  1135103330357796864"
      ]
     },
     "metadata": {},
     "execution_count": 3
    }
   ],
   "metadata": {}
  },
  {
   "cell_type": "code",
   "execution_count": 4,
   "source": [
    "mapping_pages = {user:index for index, user in enumerate(set(df[\"page\"]))}\r\n",
    "mapping_users = {page:index for index, page in enumerate(set(df[\"user\"]))}\r\n",
    "rev_dict_pages = {value:key for key,value in mapping_pages.items()}\r\n",
    "rev_dict_users = {value:key for key,value in mapping_users.items()}"
   ],
   "outputs": [],
   "metadata": {}
  },
  {
   "cell_type": "code",
   "execution_count": 5,
   "source": [
    "df_ = pd.DataFrame()\r\n",
    "df_[\"page\"] = df[\"page\"].replace(mapping_pages)\r\n",
    "df_[\"user\"] = df[\"user\"].replace(mapping_users)"
   ],
   "outputs": [],
   "metadata": {}
  },
  {
   "cell_type": "code",
   "execution_count": 6,
   "source": [
    "a_ = df_.loc[1:2,]\r\n",
    "a_"
   ],
   "outputs": [
    {
     "output_type": "execute_result",
     "data": {
      "text/html": [
       "<div>\n",
       "<style scoped>\n",
       "    .dataframe tbody tr th:only-of-type {\n",
       "        vertical-align: middle;\n",
       "    }\n",
       "\n",
       "    .dataframe tbody tr th {\n",
       "        vertical-align: top;\n",
       "    }\n",
       "\n",
       "    .dataframe thead th {\n",
       "        text-align: right;\n",
       "    }\n",
       "</style>\n",
       "<table border=\"1\" class=\"dataframe\">\n",
       "  <thead>\n",
       "    <tr style=\"text-align: right;\">\n",
       "      <th></th>\n",
       "      <th>page</th>\n",
       "      <th>user</th>\n",
       "    </tr>\n",
       "  </thead>\n",
       "  <tbody>\n",
       "    <tr>\n",
       "      <th>1</th>\n",
       "      <td>833</td>\n",
       "      <td>11628</td>\n",
       "    </tr>\n",
       "    <tr>\n",
       "      <th>2</th>\n",
       "      <td>833</td>\n",
       "      <td>20898</td>\n",
       "    </tr>\n",
       "  </tbody>\n",
       "</table>\n",
       "</div>"
      ],
      "text/plain": [
       "   page   user\n",
       "1   833  11628\n",
       "2   833  20898"
      ]
     },
     "metadata": {},
     "execution_count": 6
    }
   ],
   "metadata": {}
  },
  {
   "cell_type": "code",
   "execution_count": 7,
   "source": [
    "c_ = df_.loc[77344,]\r\n",
    "c_ = pd.DataFrame(c_).T\r\n",
    "c_"
   ],
   "outputs": [
    {
     "output_type": "execute_result",
     "data": {
      "text/html": [
       "<div>\n",
       "<style scoped>\n",
       "    .dataframe tbody tr th:only-of-type {\n",
       "        vertical-align: middle;\n",
       "    }\n",
       "\n",
       "    .dataframe tbody tr th {\n",
       "        vertical-align: top;\n",
       "    }\n",
       "\n",
       "    .dataframe thead th {\n",
       "        text-align: right;\n",
       "    }\n",
       "</style>\n",
       "<table border=\"1\" class=\"dataframe\">\n",
       "  <thead>\n",
       "    <tr style=\"text-align: right;\">\n",
       "      <th></th>\n",
       "      <th>page</th>\n",
       "      <th>user</th>\n",
       "    </tr>\n",
       "  </thead>\n",
       "  <tbody>\n",
       "    <tr>\n",
       "      <th>77344</th>\n",
       "      <td>550</td>\n",
       "      <td>11628</td>\n",
       "    </tr>\n",
       "  </tbody>\n",
       "</table>\n",
       "</div>"
      ],
      "text/plain": [
       "       page   user\n",
       "77344   550  11628"
      ]
     },
     "metadata": {},
     "execution_count": 7
    }
   ],
   "metadata": {}
  },
  {
   "cell_type": "code",
   "execution_count": 8,
   "source": [
    "d_ = df_[df_[\"page\"] == 874]"
   ],
   "outputs": [],
   "metadata": {}
  },
  {
   "cell_type": "code",
   "execution_count": 9,
   "source": [
    "e_ = df_[df_[\"page\"] == 2133]"
   ],
   "outputs": [],
   "metadata": {}
  },
  {
   "cell_type": "code",
   "execution_count": 10,
   "source": [
    "f_ = d_.merge(e_, on=\"user\")\r\n",
    "f_"
   ],
   "outputs": [
    {
     "output_type": "execute_result",
     "data": {
      "text/html": [
       "<div>\n",
       "<style scoped>\n",
       "    .dataframe tbody tr th:only-of-type {\n",
       "        vertical-align: middle;\n",
       "    }\n",
       "\n",
       "    .dataframe tbody tr th {\n",
       "        vertical-align: top;\n",
       "    }\n",
       "\n",
       "    .dataframe thead th {\n",
       "        text-align: right;\n",
       "    }\n",
       "</style>\n",
       "<table border=\"1\" class=\"dataframe\">\n",
       "  <thead>\n",
       "    <tr style=\"text-align: right;\">\n",
       "      <th></th>\n",
       "      <th>page_x</th>\n",
       "      <th>user</th>\n",
       "      <th>page_y</th>\n",
       "    </tr>\n",
       "  </thead>\n",
       "  <tbody>\n",
       "    <tr>\n",
       "      <th>0</th>\n",
       "      <td>874</td>\n",
       "      <td>26332</td>\n",
       "      <td>2133</td>\n",
       "    </tr>\n",
       "    <tr>\n",
       "      <th>1</th>\n",
       "      <td>874</td>\n",
       "      <td>17383</td>\n",
       "      <td>2133</td>\n",
       "    </tr>\n",
       "    <tr>\n",
       "      <th>2</th>\n",
       "      <td>874</td>\n",
       "      <td>20142</td>\n",
       "      <td>2133</td>\n",
       "    </tr>\n",
       "    <tr>\n",
       "      <th>3</th>\n",
       "      <td>874</td>\n",
       "      <td>20435</td>\n",
       "      <td>2133</td>\n",
       "    </tr>\n",
       "  </tbody>\n",
       "</table>\n",
       "</div>"
      ],
      "text/plain": [
       "   page_x   user  page_y\n",
       "0     874  26332    2133\n",
       "1     874  17383    2133\n",
       "2     874  20142    2133\n",
       "3     874  20435    2133"
      ]
     },
     "metadata": {},
     "execution_count": 10
    }
   ],
   "metadata": {}
  },
  {
   "cell_type": "code",
   "execution_count": 11,
   "source": [
    "f_.drop(2, inplace=True)"
   ],
   "outputs": [],
   "metadata": {}
  },
  {
   "cell_type": "code",
   "execution_count": 12,
   "source": [
    "g_ = f_[[\"page_y\", \"user\"]].rename({\"page_y\" : \"page\"}, axis = 1)\r\n",
    "g_"
   ],
   "outputs": [
    {
     "output_type": "execute_result",
     "data": {
      "text/html": [
       "<div>\n",
       "<style scoped>\n",
       "    .dataframe tbody tr th:only-of-type {\n",
       "        vertical-align: middle;\n",
       "    }\n",
       "\n",
       "    .dataframe tbody tr th {\n",
       "        vertical-align: top;\n",
       "    }\n",
       "\n",
       "    .dataframe thead th {\n",
       "        text-align: right;\n",
       "    }\n",
       "</style>\n",
       "<table border=\"1\" class=\"dataframe\">\n",
       "  <thead>\n",
       "    <tr style=\"text-align: right;\">\n",
       "      <th></th>\n",
       "      <th>page</th>\n",
       "      <th>user</th>\n",
       "    </tr>\n",
       "  </thead>\n",
       "  <tbody>\n",
       "    <tr>\n",
       "      <th>0</th>\n",
       "      <td>2133</td>\n",
       "      <td>26332</td>\n",
       "    </tr>\n",
       "    <tr>\n",
       "      <th>1</th>\n",
       "      <td>2133</td>\n",
       "      <td>17383</td>\n",
       "    </tr>\n",
       "    <tr>\n",
       "      <th>3</th>\n",
       "      <td>2133</td>\n",
       "      <td>20435</td>\n",
       "    </tr>\n",
       "  </tbody>\n",
       "</table>\n",
       "</div>"
      ],
      "text/plain": [
       "   page   user\n",
       "0  2133  26332\n",
       "1  2133  17383\n",
       "3  2133  20435"
      ]
     },
     "metadata": {},
     "execution_count": 12
    }
   ],
   "metadata": {}
  },
  {
   "cell_type": "code",
   "execution_count": 13,
   "source": [
    "h_ = f_[[\"page_x\", \"user\"]].rename({\"page_x\" : \"page\"}, axis = 1)\r\n",
    "h_"
   ],
   "outputs": [
    {
     "output_type": "execute_result",
     "data": {
      "text/html": [
       "<div>\n",
       "<style scoped>\n",
       "    .dataframe tbody tr th:only-of-type {\n",
       "        vertical-align: middle;\n",
       "    }\n",
       "\n",
       "    .dataframe tbody tr th {\n",
       "        vertical-align: top;\n",
       "    }\n",
       "\n",
       "    .dataframe thead th {\n",
       "        text-align: right;\n",
       "    }\n",
       "</style>\n",
       "<table border=\"1\" class=\"dataframe\">\n",
       "  <thead>\n",
       "    <tr style=\"text-align: right;\">\n",
       "      <th></th>\n",
       "      <th>page</th>\n",
       "      <th>user</th>\n",
       "    </tr>\n",
       "  </thead>\n",
       "  <tbody>\n",
       "    <tr>\n",
       "      <th>0</th>\n",
       "      <td>874</td>\n",
       "      <td>26332</td>\n",
       "    </tr>\n",
       "    <tr>\n",
       "      <th>1</th>\n",
       "      <td>874</td>\n",
       "      <td>17383</td>\n",
       "    </tr>\n",
       "    <tr>\n",
       "      <th>3</th>\n",
       "      <td>874</td>\n",
       "      <td>20435</td>\n",
       "    </tr>\n",
       "  </tbody>\n",
       "</table>\n",
       "</div>"
      ],
      "text/plain": [
       "   page   user\n",
       "0   874  26332\n",
       "1   874  17383\n",
       "3   874  20435"
      ]
     },
     "metadata": {},
     "execution_count": 13
    }
   ],
   "metadata": {}
  },
  {
   "cell_type": "code",
   "execution_count": 14,
   "source": [
    "viz = pd.concat([a_, c_, g_, h_])\r\n",
    "viz"
   ],
   "outputs": [
    {
     "output_type": "execute_result",
     "data": {
      "text/html": [
       "<div>\n",
       "<style scoped>\n",
       "    .dataframe tbody tr th:only-of-type {\n",
       "        vertical-align: middle;\n",
       "    }\n",
       "\n",
       "    .dataframe tbody tr th {\n",
       "        vertical-align: top;\n",
       "    }\n",
       "\n",
       "    .dataframe thead th {\n",
       "        text-align: right;\n",
       "    }\n",
       "</style>\n",
       "<table border=\"1\" class=\"dataframe\">\n",
       "  <thead>\n",
       "    <tr style=\"text-align: right;\">\n",
       "      <th></th>\n",
       "      <th>page</th>\n",
       "      <th>user</th>\n",
       "    </tr>\n",
       "  </thead>\n",
       "  <tbody>\n",
       "    <tr>\n",
       "      <th>1</th>\n",
       "      <td>833</td>\n",
       "      <td>11628</td>\n",
       "    </tr>\n",
       "    <tr>\n",
       "      <th>2</th>\n",
       "      <td>833</td>\n",
       "      <td>20898</td>\n",
       "    </tr>\n",
       "    <tr>\n",
       "      <th>77344</th>\n",
       "      <td>550</td>\n",
       "      <td>11628</td>\n",
       "    </tr>\n",
       "    <tr>\n",
       "      <th>0</th>\n",
       "      <td>2133</td>\n",
       "      <td>26332</td>\n",
       "    </tr>\n",
       "    <tr>\n",
       "      <th>1</th>\n",
       "      <td>2133</td>\n",
       "      <td>17383</td>\n",
       "    </tr>\n",
       "    <tr>\n",
       "      <th>3</th>\n",
       "      <td>2133</td>\n",
       "      <td>20435</td>\n",
       "    </tr>\n",
       "    <tr>\n",
       "      <th>0</th>\n",
       "      <td>874</td>\n",
       "      <td>26332</td>\n",
       "    </tr>\n",
       "    <tr>\n",
       "      <th>1</th>\n",
       "      <td>874</td>\n",
       "      <td>17383</td>\n",
       "    </tr>\n",
       "    <tr>\n",
       "      <th>3</th>\n",
       "      <td>874</td>\n",
       "      <td>20435</td>\n",
       "    </tr>\n",
       "  </tbody>\n",
       "</table>\n",
       "</div>"
      ],
      "text/plain": [
       "       page   user\n",
       "1       833  11628\n",
       "2       833  20898\n",
       "77344   550  11628\n",
       "0      2133  26332\n",
       "1      2133  17383\n",
       "3      2133  20435\n",
       "0       874  26332\n",
       "1       874  17383\n",
       "3       874  20435"
      ]
     },
     "metadata": {},
     "execution_count": 14
    }
   ],
   "metadata": {}
  },
  {
   "cell_type": "code",
   "execution_count": 15,
   "source": [
    "mapping_pages_ = {user:index for index, user in enumerate(set(viz[\"page\"]))}\r\n",
    "mapping_users_ = {page:index for index, page in enumerate(set(viz[\"user\"]))}\r\n",
    "rev_dict_pages_ = {value:key for key,value in mapping_pages.items()}\r\n",
    "rev_dict_users_ = {value:key for key,value in mapping_users.items()}"
   ],
   "outputs": [],
   "metadata": {}
  },
  {
   "cell_type": "code",
   "execution_count": 16,
   "source": [
    "viz_ = pd.DataFrame()\r\n",
    "viz_[\"page\"] = viz[\"page\"].replace(mapping_pages_)\r\n",
    "viz_[\"user\"] = viz[\"user\"].replace(mapping_users_)"
   ],
   "outputs": [],
   "metadata": {}
  },
  {
   "cell_type": "code",
   "execution_count": 17,
   "source": [
    "viz_.reset_index(inplace=True)\r\n",
    "del viz_[\"index\"]\r\n",
    "viz_"
   ],
   "outputs": [
    {
     "output_type": "execute_result",
     "data": {
      "text/html": [
       "<div>\n",
       "<style scoped>\n",
       "    .dataframe tbody tr th:only-of-type {\n",
       "        vertical-align: middle;\n",
       "    }\n",
       "\n",
       "    .dataframe tbody tr th {\n",
       "        vertical-align: top;\n",
       "    }\n",
       "\n",
       "    .dataframe thead th {\n",
       "        text-align: right;\n",
       "    }\n",
       "</style>\n",
       "<table border=\"1\" class=\"dataframe\">\n",
       "  <thead>\n",
       "    <tr style=\"text-align: right;\">\n",
       "      <th></th>\n",
       "      <th>page</th>\n",
       "      <th>user</th>\n",
       "    </tr>\n",
       "  </thead>\n",
       "  <tbody>\n",
       "    <tr>\n",
       "      <th>0</th>\n",
       "      <td>0</td>\n",
       "      <td>2</td>\n",
       "    </tr>\n",
       "    <tr>\n",
       "      <th>1</th>\n",
       "      <td>0</td>\n",
       "      <td>0</td>\n",
       "    </tr>\n",
       "    <tr>\n",
       "      <th>2</th>\n",
       "      <td>3</td>\n",
       "      <td>2</td>\n",
       "    </tr>\n",
       "    <tr>\n",
       "      <th>3</th>\n",
       "      <td>2</td>\n",
       "      <td>4</td>\n",
       "    </tr>\n",
       "    <tr>\n",
       "      <th>4</th>\n",
       "      <td>2</td>\n",
       "      <td>1</td>\n",
       "    </tr>\n",
       "    <tr>\n",
       "      <th>5</th>\n",
       "      <td>2</td>\n",
       "      <td>3</td>\n",
       "    </tr>\n",
       "    <tr>\n",
       "      <th>6</th>\n",
       "      <td>1</td>\n",
       "      <td>4</td>\n",
       "    </tr>\n",
       "    <tr>\n",
       "      <th>7</th>\n",
       "      <td>1</td>\n",
       "      <td>1</td>\n",
       "    </tr>\n",
       "    <tr>\n",
       "      <th>8</th>\n",
       "      <td>1</td>\n",
       "      <td>3</td>\n",
       "    </tr>\n",
       "  </tbody>\n",
       "</table>\n",
       "</div>"
      ],
      "text/plain": [
       "   page  user\n",
       "0     0     2\n",
       "1     0     0\n",
       "2     3     2\n",
       "3     2     4\n",
       "4     2     1\n",
       "5     2     3\n",
       "6     1     4\n",
       "7     1     1\n",
       "8     1     3"
      ]
     },
     "metadata": {},
     "execution_count": 17
    }
   ],
   "metadata": {}
  },
  {
   "cell_type": "code",
   "execution_count": 18,
   "source": [
    "viz_ = viz_.append(pd.DataFrame({\"page\" : 3, \"user\" : 4}, index = [9]))\r\n",
    "viz_ = viz_.append(pd.DataFrame({\"page\" : 3, \"user\" : 0}, index = [10]))"
   ],
   "outputs": [],
   "metadata": {}
  },
  {
   "cell_type": "code",
   "execution_count": 19,
   "source": [
    "from IPython.display import SVG\r\n",
    "from sknetwork.visualization import svg_graph, svg_bigraph\r\n",
    "from sknetwork.utils import edgelist2biadjacency"
   ],
   "outputs": [],
   "metadata": {}
  },
  {
   "cell_type": "code",
   "execution_count": 20,
   "source": [
    "bi_adj_graph = edgelist2biadjacency([tuple(x) for x in list(viz_.to_numpy())])\r\n",
    "bi_adj_graph"
   ],
   "outputs": [
    {
     "output_type": "execute_result",
     "data": {
      "text/plain": [
       "<4x5 sparse matrix of type '<class 'numpy.bool_'>'\n",
       "\twith 11 stored elements in Compressed Sparse Row format>"
      ]
     },
     "metadata": {},
     "execution_count": 20
    }
   ],
   "metadata": {}
  },
  {
   "cell_type": "code",
   "execution_count": 21,
   "source": [
    "image = svg_bigraph(bi_adj_graph, names_row = [\"gloquenzi\", \"matteorenzi\", \"israele360\", \"ardigiorgio\"], names_col=[\"ngiocoli\", \"AlexejMoll\", \"SimoneBo7\", \"mariavenera2\", \"MariaPiaRagosa\"], color_row='gray', color_col='yellow')\r\n",
    "SVG(image)"
   ],
   "outputs": [
    {
     "output_type": "execute_result",
     "data": {
      "image/svg+xml": "<svg xmlns=\"http://www.w3.org/2000/svg\" width=\"590.0\" height=\"340\">\n<path stroke-width=\"1\" stroke=\"black\" d=\"M 86 132 486 95\"/>\n<path stroke-width=\"1\" stroke=\"black\" d=\"M 86 132 486 20\"/>\n<path stroke-width=\"1\" stroke=\"black\" d=\"M 86 282 486 320\"/>\n<path stroke-width=\"1\" stroke=\"black\" d=\"M 86 282 486 245\"/>\n<path stroke-width=\"1\" stroke=\"black\" d=\"M 86 282 486 170\"/>\n<path stroke-width=\"1\" stroke=\"black\" d=\"M 86 207 486 320\"/>\n<path stroke-width=\"1\" stroke=\"black\" d=\"M 86 207 486 245\"/>\n<path stroke-width=\"1\" stroke=\"black\" d=\"M 86 207 486 170\"/>\n<path stroke-width=\"1\" stroke=\"black\" d=\"M 86 57 486 95\"/>\n<path stroke-width=\"1\" stroke=\"black\" d=\"M 86 57 486 20\"/>\n<path stroke-width=\"1\" stroke=\"black\" d=\"M 86 57 486 170\"/>\n<circle cx=\"86\" cy=\"132\" r=\"7.0\" style=\"fill:gray;stroke:black;stroke-width:1.0\"/>\n<circle cx=\"86\" cy=\"282\" r=\"7.0\" style=\"fill:gray;stroke:black;stroke-width:1.0\"/>\n<circle cx=\"86\" cy=\"207\" r=\"7.0\" style=\"fill:gray;stroke:black;stroke-width:1.0\"/>\n<circle cx=\"86\" cy=\"57\" r=\"7.0\" style=\"fill:gray;stroke:black;stroke-width:1.0\"/>\n<circle cx=\"486\" cy=\"95\" r=\"7.0\" style=\"fill:yellow;stroke:black;stroke-width:1.0\"/>\n<circle cx=\"486\" cy=\"320\" r=\"7.0\" style=\"fill:yellow;stroke:black;stroke-width:1.0\"/>\n<circle cx=\"486\" cy=\"20\" r=\"7.0\" style=\"fill:yellow;stroke:black;stroke-width:1.0\"/>\n<circle cx=\"486\" cy=\"245\" r=\"7.0\" style=\"fill:yellow;stroke:black;stroke-width:1.0\"/>\n<circle cx=\"486\" cy=\"170\" r=\"7.0\" style=\"fill:yellow;stroke:black;stroke-width:1.0\"/>\n<text text-anchor=\"end\" x=\"76\" y=\"132\" font-size=\"12\">gloquenzi</text><text text-anchor=\"end\" x=\"76\" y=\"282\" font-size=\"12\">matteorenzi</text><text text-anchor=\"end\" x=\"76\" y=\"207\" font-size=\"12\">israele360</text><text text-anchor=\"end\" x=\"76\" y=\"57\" font-size=\"12\">ardigiorgio</text><text text-anchor=\"start\" x=\"496\" y=\"95\" font-size=\"12\">ngiocoli</text><text text-anchor=\"start\" x=\"496\" y=\"320\" font-size=\"12\">AlexejMoll</text><text text-anchor=\"start\" x=\"496\" y=\"20\" font-size=\"12\">SimoneBo7</text><text text-anchor=\"start\" x=\"496\" y=\"245\" font-size=\"12\">mariavenera2</text><text text-anchor=\"start\" x=\"496\" y=\"170\" font-size=\"12\">MariaPiaRagosa</text></svg>",
      "text/plain": [
       "<IPython.core.display.SVG object>"
      ]
     },
     "metadata": {},
     "execution_count": 21
    }
   ],
   "metadata": {}
  },
  {
   "cell_type": "code",
   "execution_count": 22,
   "source": [
    "indexes = viz_[[\"user\", \"page\"]].to_numpy()\r\n",
    "indexes"
   ],
   "outputs": [
    {
     "output_type": "execute_result",
     "data": {
      "text/plain": [
       "array([[2, 0],\n",
       "       [0, 0],\n",
       "       [2, 3],\n",
       "       [4, 2],\n",
       "       [1, 2],\n",
       "       [3, 2],\n",
       "       [4, 1],\n",
       "       [1, 1],\n",
       "       [3, 1],\n",
       "       [4, 3],\n",
       "       [0, 3]], dtype=int64)"
      ]
     },
     "metadata": {},
     "execution_count": 22
    }
   ],
   "metadata": {}
  },
  {
   "cell_type": "code",
   "execution_count": 23,
   "source": [
    "user_pages_dict = collections.defaultdict(list)\r\n",
    "for tuple_ in indexes:\r\n",
    "    if tuple_[1] not in user_pages_dict[tuple_[0]]:\r\n",
    "        user_pages_dict[tuple_[0]].append(tuple_[1])\r\n",
    "\r\n",
    "edges = [pages_index_pair for pages_index in user_pages_dict.values() if len(pages_index) > 1 for pages_index_pair in list(itertools.permutations(pages_index, 2))]\r\n",
    "edges_weights = collections.Counter(edges)\r\n",
    "edges_weights"
   ],
   "outputs": [
    {
     "output_type": "execute_result",
     "data": {
      "text/plain": [
       "Counter({(0, 3): 2,\n",
       "         (3, 0): 2,\n",
       "         (2, 1): 3,\n",
       "         (2, 3): 1,\n",
       "         (1, 2): 3,\n",
       "         (1, 3): 1,\n",
       "         (3, 2): 1,\n",
       "         (3, 1): 1})"
      ]
     },
     "metadata": {},
     "execution_count": 23
    }
   ],
   "metadata": {}
  },
  {
   "cell_type": "code",
   "execution_count": 24,
   "source": [
    "def dict_to_sparse_matrix(dict_graph):\r\n",
    "    data = np.array(list(dict_graph.values()))\r\n",
    "    A = np.array(list(dict_graph.keys()))\r\n",
    "    rows = A.T[1]\r\n",
    "    cols = A.T[0]\r\n",
    "    B = coo_matrix((data, (rows, cols)), shape=(len(mapping_pages_), len(mapping_pages_)))\r\n",
    "    return csr_matrix(B)"
   ],
   "outputs": [],
   "metadata": {}
  },
  {
   "cell_type": "code",
   "execution_count": 25,
   "source": [
    "P = dict_to_sparse_matrix(edges_weights)\r\n",
    "print(P)"
   ],
   "outputs": [
    {
     "output_type": "stream",
     "name": "stdout",
     "text": [
      "  (0, 3)\t2\n",
      "  (1, 2)\t3\n",
      "  (1, 3)\t1\n",
      "  (2, 1)\t3\n",
      "  (2, 3)\t1\n",
      "  (3, 0)\t2\n",
      "  (3, 1)\t1\n",
      "  (3, 2)\t1\n"
     ]
    }
   ],
   "metadata": {}
  },
  {
   "cell_type": "code",
   "execution_count": 26,
   "source": [
    "from sknetwork.clustering import Louvain, PropagationClustering, modularity \r\n",
    "louvain = Louvain(modularity=\"dugue\")\r\n",
    "labels_louvain = louvain.fit_transform(P)"
   ],
   "outputs": [],
   "metadata": {}
  },
  {
   "cell_type": "code",
   "execution_count": 27,
   "source": [
    "labels_louvain"
   ],
   "outputs": [
    {
     "output_type": "execute_result",
     "data": {
      "text/plain": [
       "array([1, 0, 0, 1], dtype=int64)"
      ]
     },
     "metadata": {},
     "execution_count": 27
    }
   ],
   "metadata": {}
  },
  {
   "cell_type": "code",
   "execution_count": 28,
   "source": [
    "from sknetwork.data import karate_club, painters, movie_actor, load_netset\r\n",
    "from sknetwork.visualization import svg_graph, svg_digraph, svg_bigraph"
   ],
   "outputs": [],
   "metadata": {}
  },
  {
   "cell_type": "code",
   "execution_count": 29,
   "source": [
    "position = np.array([[ 0.6,  0.2],\r\n",
    "       [ 0.20, 0],\r\n",
    "       [ 0.20,  0.4],\r\n",
    "       [ 0.4, 0.2]])\r\n"
   ],
   "outputs": [],
   "metadata": {}
  },
  {
   "cell_type": "code",
   "execution_count": 30,
   "source": [
    "image = svg_graph(P, names=[\"gloquenzi\", \"matteorenzi\", \"israele360\", \"ardigiorgio\"], position = position, name_position='below', display_edge_weight = False, node_color = \"gray\")\r\n",
    "SVG(image)"
   ],
   "outputs": [
    {
     "output_type": "execute_result",
     "data": {
      "image/svg+xml": "<svg xmlns=\"http://www.w3.org/2000/svg\" width=\"560.0\" height=\"352\">\n<path stroke-width=\"1\" stroke=\"gray\" d=\"M 486 170 286 170\"/>\n<path stroke-width=\"1\" stroke=\"gray\" d=\"M 86 320 86 20\"/>\n<path stroke-width=\"1\" stroke=\"gray\" d=\"M 86 320 286 170\"/>\n<path stroke-width=\"1\" stroke=\"gray\" d=\"M 86 20 86 320\"/>\n<path stroke-width=\"1\" stroke=\"gray\" d=\"M 86 20 286 170\"/>\n<path stroke-width=\"1\" stroke=\"gray\" d=\"M 286 170 486 170\"/>\n<path stroke-width=\"1\" stroke=\"gray\" d=\"M 286 170 86 320\"/>\n<path stroke-width=\"1\" stroke=\"gray\" d=\"M 286 170 86 20\"/>\n<circle cx=\"486\" cy=\"170\" r=\"7.0\" style=\"fill:gray;stroke:black;stroke-width:1.0\"/>\n<circle cx=\"86\" cy=\"320\" r=\"7.0\" style=\"fill:gray;stroke:black;stroke-width:1.0\"/>\n<circle cx=\"86\" cy=\"20\" r=\"7.0\" style=\"fill:gray;stroke:black;stroke-width:1.0\"/>\n<circle cx=\"286\" cy=\"170\" r=\"7.0\" style=\"fill:gray;stroke:black;stroke-width:1.0\"/>\n<text text-anchor=\"middle\" x=\"486\" y=\"190\" font-size=\"12\">gloquenzi</text><text text-anchor=\"middle\" x=\"86\" y=\"340\" font-size=\"12\">matteorenzi</text><text text-anchor=\"middle\" x=\"86\" y=\"40\" font-size=\"12\">israele360</text><text text-anchor=\"middle\" x=\"286\" y=\"190\" font-size=\"12\">ardigiorgio</text></svg>",
      "text/plain": [
       "<IPython.core.display.SVG object>"
      ]
     },
     "metadata": {},
     "execution_count": 30
    }
   ],
   "metadata": {}
  },
  {
   "cell_type": "code",
   "execution_count": 31,
   "source": [
    "image = svg_graph(P, names=[\"gloquenzi\", \"matteorenzi\", \"israele360\", \"ardigiorgio\"], position = position, name_position='below', labels=labels_louvain, display_edge_weight = False)\r\n",
    "SVG(image)"
   ],
   "outputs": [
    {
     "output_type": "execute_result",
     "data": {
      "image/svg+xml": "<svg xmlns=\"http://www.w3.org/2000/svg\" width=\"560.0\" height=\"352\">\n<path stroke-width=\"1\" stroke=\"gray\" d=\"M 486 170 286 170\"/>\n<path stroke-width=\"1\" stroke=\"gray\" d=\"M 86 320 86 20\"/>\n<path stroke-width=\"1\" stroke=\"gray\" d=\"M 86 320 286 170\"/>\n<path stroke-width=\"1\" stroke=\"gray\" d=\"M 86 20 86 320\"/>\n<path stroke-width=\"1\" stroke=\"gray\" d=\"M 86 20 286 170\"/>\n<path stroke-width=\"1\" stroke=\"gray\" d=\"M 286 170 486 170\"/>\n<path stroke-width=\"1\" stroke=\"gray\" d=\"M 286 170 86 320\"/>\n<path stroke-width=\"1\" stroke=\"gray\" d=\"M 286 170 86 20\"/>\n<circle cx=\"486\" cy=\"170\" r=\"7.0\" style=\"fill:red;stroke:black;stroke-width:1.0\"/>\n<circle cx=\"86\" cy=\"320\" r=\"7.0\" style=\"fill:blue;stroke:black;stroke-width:1.0\"/>\n<circle cx=\"86\" cy=\"20\" r=\"7.0\" style=\"fill:blue;stroke:black;stroke-width:1.0\"/>\n<circle cx=\"286\" cy=\"170\" r=\"7.0\" style=\"fill:red;stroke:black;stroke-width:1.0\"/>\n<text text-anchor=\"middle\" x=\"486\" y=\"190\" font-size=\"12\">gloquenzi</text><text text-anchor=\"middle\" x=\"86\" y=\"340\" font-size=\"12\">matteorenzi</text><text text-anchor=\"middle\" x=\"86\" y=\"40\" font-size=\"12\">israele360</text><text text-anchor=\"middle\" x=\"286\" y=\"190\" font-size=\"12\">ardigiorgio</text></svg>",
      "text/plain": [
       "<IPython.core.display.SVG object>"
      ]
     },
     "metadata": {},
     "execution_count": 31
    }
   ],
   "metadata": {}
  },
  {
   "cell_type": "code",
   "execution_count": 32,
   "source": [
    "image = svg_bigraph(bi_adj_graph, names_row = [\"gloquenzi\", \"matteorenzi\", \"israele360\", \"ardigiorgio\"], names_col=[\"ngiocoli\", \"AlexejMoll\", \"SimoneBo7\", \"mariavenera2\", \"MariaPiaRagosa\"], color_row='gray', color_col='yellow')\r\n",
    "SVG(image)"
   ],
   "outputs": [
    {
     "output_type": "execute_result",
     "data": {
      "image/svg+xml": "<svg xmlns=\"http://www.w3.org/2000/svg\" width=\"590.0\" height=\"340\">\n<path stroke-width=\"1\" stroke=\"black\" d=\"M 86 132 486 95\"/>\n<path stroke-width=\"1\" stroke=\"black\" d=\"M 86 132 486 20\"/>\n<path stroke-width=\"1\" stroke=\"black\" d=\"M 86 282 486 320\"/>\n<path stroke-width=\"1\" stroke=\"black\" d=\"M 86 282 486 245\"/>\n<path stroke-width=\"1\" stroke=\"black\" d=\"M 86 282 486 170\"/>\n<path stroke-width=\"1\" stroke=\"black\" d=\"M 86 207 486 320\"/>\n<path stroke-width=\"1\" stroke=\"black\" d=\"M 86 207 486 245\"/>\n<path stroke-width=\"1\" stroke=\"black\" d=\"M 86 207 486 170\"/>\n<path stroke-width=\"1\" stroke=\"black\" d=\"M 86 57 486 95\"/>\n<path stroke-width=\"1\" stroke=\"black\" d=\"M 86 57 486 20\"/>\n<path stroke-width=\"1\" stroke=\"black\" d=\"M 86 57 486 170\"/>\n<circle cx=\"86\" cy=\"132\" r=\"7.0\" style=\"fill:gray;stroke:black;stroke-width:1.0\"/>\n<circle cx=\"86\" cy=\"282\" r=\"7.0\" style=\"fill:gray;stroke:black;stroke-width:1.0\"/>\n<circle cx=\"86\" cy=\"207\" r=\"7.0\" style=\"fill:gray;stroke:black;stroke-width:1.0\"/>\n<circle cx=\"86\" cy=\"57\" r=\"7.0\" style=\"fill:gray;stroke:black;stroke-width:1.0\"/>\n<circle cx=\"486\" cy=\"95\" r=\"7.0\" style=\"fill:yellow;stroke:black;stroke-width:1.0\"/>\n<circle cx=\"486\" cy=\"320\" r=\"7.0\" style=\"fill:yellow;stroke:black;stroke-width:1.0\"/>\n<circle cx=\"486\" cy=\"20\" r=\"7.0\" style=\"fill:yellow;stroke:black;stroke-width:1.0\"/>\n<circle cx=\"486\" cy=\"245\" r=\"7.0\" style=\"fill:yellow;stroke:black;stroke-width:1.0\"/>\n<circle cx=\"486\" cy=\"170\" r=\"7.0\" style=\"fill:yellow;stroke:black;stroke-width:1.0\"/>\n<text text-anchor=\"end\" x=\"76\" y=\"132\" font-size=\"12\">gloquenzi</text><text text-anchor=\"end\" x=\"76\" y=\"282\" font-size=\"12\">matteorenzi</text><text text-anchor=\"end\" x=\"76\" y=\"207\" font-size=\"12\">israele360</text><text text-anchor=\"end\" x=\"76\" y=\"57\" font-size=\"12\">ardigiorgio</text><text text-anchor=\"start\" x=\"496\" y=\"95\" font-size=\"12\">ngiocoli</text><text text-anchor=\"start\" x=\"496\" y=\"320\" font-size=\"12\">AlexejMoll</text><text text-anchor=\"start\" x=\"496\" y=\"20\" font-size=\"12\">SimoneBo7</text><text text-anchor=\"start\" x=\"496\" y=\"245\" font-size=\"12\">mariavenera2</text><text text-anchor=\"start\" x=\"496\" y=\"170\" font-size=\"12\">MariaPiaRagosa</text></svg>",
      "text/plain": [
       "<IPython.core.display.SVG object>"
      ]
     },
     "metadata": {},
     "execution_count": 32
    }
   ],
   "metadata": {}
  }
 ],
 "metadata": {
  "orig_nbformat": 4,
  "language_info": {
   "name": "python",
   "version": "3.8.0",
   "mimetype": "text/x-python",
   "codemirror_mode": {
    "name": "ipython",
    "version": 3
   },
   "pygments_lexer": "ipython3",
   "nbconvert_exporter": "python",
   "file_extension": ".py"
  },
  "kernelspec": {
   "name": "python3",
   "display_name": "Python 3.8.0 64-bit ('venv': venv)"
  },
  "interpreter": {
   "hash": "665d38e09d0c1d33e6f084c5ea68990b29011b3c66469a69aa2bd2d413f24430"
  }
 },
 "nbformat": 4,
 "nbformat_minor": 2
}