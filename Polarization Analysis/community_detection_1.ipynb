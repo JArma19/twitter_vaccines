{
 "cells": [
  {
   "cell_type": "markdown",
   "source": [
    "# Polarization week 1\r\n",
    "`Dopo aver classificato, per la settimana di interesse, utenti influenti e non, si procede con il calcolo della polarizzazione`"
   ],
   "metadata": {}
  },
  {
   "cell_type": "code",
   "execution_count": 1,
   "source": [
    "import numpy as np\n",
    "import itertools\n",
    "import collections\n",
    "import pandas as pd\n",
    "from scipy.sparse import csr_matrix, coo_matrix"
   ],
   "outputs": [],
   "metadata": {}
  },
  {
   "cell_type": "code",
   "execution_count": 2,
   "source": [
    "import sys\n",
    "sys.path.append('../')"
   ],
   "outputs": [],
   "metadata": {}
  },
  {
   "cell_type": "code",
   "execution_count": 3,
   "source": [
    "from lib import mongoAPI"
   ],
   "outputs": [],
   "metadata": {}
  },
  {
   "cell_type": "markdown",
   "source": [
    "## Read dataframe (da MongoDB)\r\n",
    "Si ottengono tutte le interazioni (retweet) tra un utente influente (chiamato anche \"Page\") e un utente non influente (\"User\")"
   ],
   "metadata": {}
  },
  {
   "cell_type": "code",
   "execution_count": 4,
   "source": [
    "print(\"Connessione MongoDB...\")\n",
    "mongo_conn = mongoAPI.get_connection(\"localhost\", 27027)\n",
    "mongo_db = mongo_conn.get_db(\"dataman_project\")\n",
    "mongo_coll_links = mongo_db.get_collection(\"links\")\n",
    "print(\"Done\")"
   ],
   "outputs": [
    {
     "output_type": "stream",
     "name": "stdout",
     "text": [
      "Connessione MongoDB...\n",
      "Done\n"
     ]
    }
   ],
   "metadata": {}
  },
  {
   "cell_type": "code",
   "execution_count": 5,
   "source": [
    "week = 1\n",
    "df = mongo_coll_links.read_df_week(week)\n",
    "del df[\"week\"]\n",
    "df.head()"
   ],
   "outputs": [
    {
     "output_type": "execute_result",
     "data": {
      "text/html": [
       "<div>\n",
       "<style scoped>\n",
       "    .dataframe tbody tr th:only-of-type {\n",
       "        vertical-align: middle;\n",
       "    }\n",
       "\n",
       "    .dataframe tbody tr th {\n",
       "        vertical-align: top;\n",
       "    }\n",
       "\n",
       "    .dataframe thead th {\n",
       "        text-align: right;\n",
       "    }\n",
       "</style>\n",
       "<table border=\"1\" class=\"dataframe\">\n",
       "  <thead>\n",
       "    <tr style=\"text-align: right;\">\n",
       "      <th></th>\n",
       "      <th>page</th>\n",
       "      <th>user</th>\n",
       "    </tr>\n",
       "  </thead>\n",
       "  <tbody>\n",
       "    <tr>\n",
       "      <th>0</th>\n",
       "      <td>2812961</td>\n",
       "      <td>2002721</td>\n",
       "    </tr>\n",
       "    <tr>\n",
       "      <th>1</th>\n",
       "      <td>2812961</td>\n",
       "      <td>2249785528</td>\n",
       "    </tr>\n",
       "    <tr>\n",
       "      <th>2</th>\n",
       "      <td>2812961</td>\n",
       "      <td>921682901212725248</td>\n",
       "    </tr>\n",
       "    <tr>\n",
       "      <th>3</th>\n",
       "      <td>2812961</td>\n",
       "      <td>808215598488489984</td>\n",
       "    </tr>\n",
       "    <tr>\n",
       "      <th>4</th>\n",
       "      <td>2812961</td>\n",
       "      <td>436239851</td>\n",
       "    </tr>\n",
       "  </tbody>\n",
       "</table>\n",
       "</div>"
      ],
      "text/plain": [
       "      page                user\n",
       "0  2812961             2002721\n",
       "1  2812961          2249785528\n",
       "2  2812961  921682901212725248\n",
       "3  2812961  808215598488489984\n",
       "4  2812961           436239851"
      ]
     },
     "metadata": {},
     "execution_count": 5
    }
   ],
   "metadata": {}
  },
  {
   "cell_type": "markdown",
   "source": [
    "## Map users ID and pages ID to sequence (1,len(users))\r\n",
    "Anziché gli ID utilizzati da Twitter, si associano, a pagine e utenti, un ID progressivo"
   ],
   "metadata": {}
  },
  {
   "cell_type": "code",
   "execution_count": 6,
   "source": [
    "mapping_pages = {user:index for index, user in enumerate(set(df[\"page\"]))}\n",
    "mapping_users = {page:index for index, page in enumerate(set(df[\"user\"]))}\n",
    "rev_dict_pages = {value:key for key,value in mapping_pages.items()}\n",
    "rev_dict_users = {value:key for key,value in mapping_users.items()}"
   ],
   "outputs": [],
   "metadata": {}
  },
  {
   "cell_type": "code",
   "execution_count": 7,
   "source": [
    "df_ = pd.DataFrame()\n",
    "df_[\"page\"] = df[\"page\"].replace(mapping_pages)\n",
    "df_[\"user\"] = df[\"user\"].replace(mapping_users)"
   ],
   "outputs": [],
   "metadata": {}
  },
  {
   "cell_type": "markdown",
   "source": [
    "## Visualizzazione grafo bipartito utenti - pagine"
   ],
   "metadata": {}
  },
  {
   "cell_type": "code",
   "execution_count": 8,
   "source": [
    "indexes = df_[[\"user\", \"page\"]].to_numpy()\n",
    "indexes"
   ],
   "outputs": [
    {
     "output_type": "execute_result",
     "data": {
      "text/plain": [
       "array([[ 8394,   949],\n",
       "       [15346,   949],\n",
       "       [    0,   949],\n",
       "       ...,\n",
       "       [13316,  1243],\n",
       "       [30141,   912],\n",
       "       [13316,  1243]])"
      ]
     },
     "metadata": {},
     "execution_count": 8
    }
   ],
   "metadata": {}
  },
  {
   "cell_type": "markdown",
   "source": [
    "## Costruzione matrice di proiezione (V,E)\r\n",
    "#### V = Pagine\r\n",
    "#### E = archi pesati con numeri di utenti condivisi tra le pagine"
   ],
   "metadata": {}
  },
  {
   "cell_type": "markdown",
   "source": [
    "### 1- Creo dizionario:\r\n",
    "* key = id utente\r\n",
    "* value = lista pagine con cui ha interagito"
   ],
   "metadata": {}
  },
  {
   "cell_type": "code",
   "execution_count": 9,
   "source": [
    "user_pages_dict = collections.defaultdict(list)\n",
    "for tuple_ in indexes:\n",
    "    if tuple_[1] not in user_pages_dict[tuple_[0]]:\n",
    "        user_pages_dict[tuple_[0]].append(tuple_[1])\n",
    "\n",
    "#user_pages_dict"
   ],
   "outputs": [],
   "metadata": {}
  },
  {
   "cell_type": "markdown",
   "source": [
    "### 2- Lista di tuple:\r\n",
    "Se un utente ha interagito con più di una pagina, allora tali pagine \"condividono\" quello stesso utente.\r\n",
    "\r\n",
    "Genero tutte le permutazioni di 2 elementi estratti dalle pagine (la matrice di proiezione deve essere simmetrica).\r\n",
    "\r\n",
    "In altri termini ogni volta che due pagine A e B condividono un utente genero tupla (A,B), che rappresenta un arco del grafo di proiezione"
   ],
   "metadata": {}
  },
  {
   "cell_type": "code",
   "execution_count": 10,
   "source": [
    "edges = [pages_index_pair for pages_index in user_pages_dict.values() if len(pages_index) > 1 for pages_index_pair in list(itertools.permutations(pages_index, 2))]\n",
    "#edges"
   ],
   "outputs": [],
   "metadata": {}
  },
  {
   "cell_type": "markdown",
   "source": [
    "### 3- Pesi:\r\n",
    "Contando le tuple ottengo il numero di utenti che la coppia (A,B) condivide, i.e. il peso dell'arco del grafo di proiezione"
   ],
   "metadata": {}
  },
  {
   "cell_type": "code",
   "execution_count": 11,
   "source": [
    "edges_weights = collections.Counter(edges)\n",
    "#edges_weights"
   ],
   "outputs": [],
   "metadata": {}
  },
  {
   "cell_type": "markdown",
   "source": [
    "### 4- Matrice di proiezione:\r\n",
    "Tenendo conto del volume, memorizzo la matrice in una matrice sparsa, cioè salvo solo gli archi effettivamente presenti, escludendo quelli con peso zero.\r\n",
    "Ciò è possibile utilizzando matrici sparse di SciPy"
   ],
   "metadata": {}
  },
  {
   "cell_type": "code",
   "execution_count": 12,
   "source": [
    "def dict_to_sparse_matrix(dict_graph):\n",
    "    data = np.array(list(dict_graph.values()))\n",
    "    A = np.array(list(dict_graph.keys()))\n",
    "    rows = A.T[1]\n",
    "    cols = A.T[0]\n",
    "    B = coo_matrix((data, (rows, cols)), shape=(len(mapping_pages), len(mapping_pages)))\n",
    "    return csr_matrix(B)"
   ],
   "outputs": [],
   "metadata": {}
  },
  {
   "cell_type": "code",
   "execution_count": 13,
   "source": [
    "P = dict_to_sparse_matrix(edges_weights)\n"
   ],
   "outputs": [],
   "metadata": {}
  },
  {
   "cell_type": "markdown",
   "source": [
    "## Community detection"
   ],
   "metadata": {}
  },
  {
   "cell_type": "markdown",
   "source": [
    "### Si considerano due algoritmi di Community detection:\r\n",
    "* Louvain Algorithm\r\n",
    "* Label Propagation"
   ],
   "metadata": {}
  },
  {
   "cell_type": "code",
   "execution_count": 14,
   "source": [
    "from sknetwork.clustering import Louvain, PropagationClustering, modularity "
   ],
   "outputs": [],
   "metadata": {}
  },
  {
   "cell_type": "markdown",
   "source": [
    "## Louvain"
   ],
   "metadata": {}
  },
  {
   "cell_type": "code",
   "execution_count": 15,
   "source": [
    "louvain = Louvain(modularity=\"dugue\")\n",
    "labels_louvain = louvain.fit_transform(P)"
   ],
   "outputs": [],
   "metadata": {}
  },
  {
   "cell_type": "markdown",
   "source": [
    "### Valutazione misura di modularità\r\n",
    "Si valuta la bontà del clustering attraverso misura di modularità.\r\n",
    "SPIEGAZIONE: range valori ecc.."
   ],
   "metadata": {}
  },
  {
   "cell_type": "code",
   "execution_count": 16,
   "source": [
    "modularity(P, labels_louvain, return_all=True)"
   ],
   "outputs": [
    {
     "output_type": "execute_result",
     "data": {
      "text/plain": [
       "(0.4051167761901391, 0.9157055571932613, 0.5105887810031222)"
      ]
     },
     "metadata": {},
     "execution_count": 16
    }
   ],
   "metadata": {}
  },
  {
   "cell_type": "markdown",
   "source": [
    "### Dimensione clusters"
   ],
   "metadata": {}
  },
  {
   "cell_type": "code",
   "execution_count": 17,
   "source": [
    "collections.Counter(labels_louvain)"
   ],
   "outputs": [
    {
     "output_type": "execute_result",
     "data": {
      "text/plain": [
       "Counter({1: 851,\n",
       "         0: 1501,\n",
       "         49: 1,\n",
       "         3: 16,\n",
       "         70: 1,\n",
       "         2: 32,\n",
       "         69: 1,\n",
       "         68: 1,\n",
       "         67: 1,\n",
       "         66: 1,\n",
       "         6: 3,\n",
       "         65: 1,\n",
       "         64: 1,\n",
       "         63: 1,\n",
       "         62: 1,\n",
       "         71: 1,\n",
       "         61: 1,\n",
       "         59: 1,\n",
       "         58: 1,\n",
       "         9: 2,\n",
       "         57: 1,\n",
       "         56: 1,\n",
       "         55: 1,\n",
       "         54: 1,\n",
       "         7: 3,\n",
       "         53: 1,\n",
       "         52: 1,\n",
       "         51: 1,\n",
       "         60: 1,\n",
       "         73: 1,\n",
       "         84: 1,\n",
       "         74: 1,\n",
       "         94: 1,\n",
       "         93: 1,\n",
       "         4: 4,\n",
       "         92: 1,\n",
       "         91: 1,\n",
       "         90: 1,\n",
       "         89: 1,\n",
       "         88: 1,\n",
       "         87: 1,\n",
       "         86: 1,\n",
       "         95: 1,\n",
       "         85: 1,\n",
       "         83: 1,\n",
       "         82: 1,\n",
       "         81: 1,\n",
       "         5: 4,\n",
       "         80: 1,\n",
       "         79: 1,\n",
       "         78: 1,\n",
       "         77: 1,\n",
       "         76: 1,\n",
       "         75: 1,\n",
       "         8: 2,\n",
       "         50: 1,\n",
       "         96: 1,\n",
       "         44: 1,\n",
       "         26: 1,\n",
       "         25: 1,\n",
       "         24: 1,\n",
       "         23: 1,\n",
       "         22: 1,\n",
       "         21: 1,\n",
       "         20: 1,\n",
       "         27: 1,\n",
       "         19: 1,\n",
       "         17: 1,\n",
       "         15: 1,\n",
       "         14: 1,\n",
       "         13: 1,\n",
       "         12: 1,\n",
       "         11: 1,\n",
       "         29: 1,\n",
       "         30: 1,\n",
       "         46: 1,\n",
       "         45: 1,\n",
       "         48: 1,\n",
       "         43: 1,\n",
       "         42: 1,\n",
       "         47: 1,\n",
       "         37: 1,\n",
       "         36: 1,\n",
       "         35: 1,\n",
       "         33: 1,\n",
       "         32: 1,\n",
       "         31: 1,\n",
       "         10: 1,\n",
       "         28: 1,\n",
       "         34: 1,\n",
       "         39: 1,\n",
       "         40: 1,\n",
       "         41: 1,\n",
       "         38: 1,\n",
       "         18: 1,\n",
       "         16: 1,\n",
       "         72: 1})"
      ]
     },
     "metadata": {},
     "execution_count": 17
    }
   ],
   "metadata": {}
  },
  {
   "cell_type": "markdown",
   "source": [
    "### Commento:\r\n",
    "* Buon valore di modularità\r\n",
    "* 2 grandi clusters"
   ],
   "metadata": {}
  },
  {
   "cell_type": "markdown",
   "source": [
    "## Label Propagation"
   ],
   "metadata": {}
  },
  {
   "cell_type": "code",
   "execution_count": 18,
   "source": [
    "propagation = PropagationClustering(sort_clusters=True)\n",
    "labels_propagation = propagation.fit_transform(P)"
   ],
   "outputs": [],
   "metadata": {}
  },
  {
   "cell_type": "markdown",
   "source": [
    "### Valutazione misura di modularità"
   ],
   "metadata": {}
  },
  {
   "cell_type": "code",
   "execution_count": 19,
   "source": [
    "modularity(P, labels_propagation, return_all=True)"
   ],
   "outputs": [
    {
     "output_type": "execute_result",
     "data": {
      "text/plain": [
       "(3.661894362760876e-05, 1.0, 0.9999633810563724)"
      ]
     },
     "metadata": {},
     "execution_count": 19
    }
   ],
   "metadata": {}
  },
  {
   "cell_type": "markdown",
   "source": [
    "### Dimensione clusters"
   ],
   "metadata": {}
  },
  {
   "cell_type": "code",
   "execution_count": 20,
   "source": [
    "collections.Counter(labels_propagation)"
   ],
   "outputs": [
    {
     "output_type": "execute_result",
     "data": {
      "text/plain": [
       "Counter({72: 2412,\n",
       "         0: 1,\n",
       "         1: 1,\n",
       "         2: 1,\n",
       "         3: 1,\n",
       "         4: 1,\n",
       "         5: 1,\n",
       "         6: 3,\n",
       "         7: 1,\n",
       "         8: 1,\n",
       "         9: 1,\n",
       "         10: 1,\n",
       "         11: 1,\n",
       "         12: 1,\n",
       "         13: 1,\n",
       "         14: 1,\n",
       "         15: 1,\n",
       "         16: 1,\n",
       "         17: 1,\n",
       "         18: 1,\n",
       "         19: 3,\n",
       "         20: 1,\n",
       "         21: 1,\n",
       "         22: 1,\n",
       "         23: 1,\n",
       "         24: 1,\n",
       "         25: 1,\n",
       "         26: 1,\n",
       "         27: 1,\n",
       "         28: 1,\n",
       "         29: 1,\n",
       "         30: 1,\n",
       "         31: 1,\n",
       "         32: 1,\n",
       "         33: 1,\n",
       "         34: 1,\n",
       "         35: 1,\n",
       "         36: 1,\n",
       "         37: 1,\n",
       "         38: 1,\n",
       "         39: 1,\n",
       "         40: 1,\n",
       "         41: 1,\n",
       "         42: 1,\n",
       "         43: 1,\n",
       "         44: 1,\n",
       "         45: 1,\n",
       "         46: 1,\n",
       "         47: 1,\n",
       "         48: 1,\n",
       "         49: 1,\n",
       "         50: 1,\n",
       "         51: 1,\n",
       "         52: 1,\n",
       "         53: 1,\n",
       "         54: 1,\n",
       "         55: 1,\n",
       "         56: 1,\n",
       "         57: 1,\n",
       "         58: 1,\n",
       "         59: 1,\n",
       "         60: 1,\n",
       "         61: 1,\n",
       "         62: 1,\n",
       "         63: 1,\n",
       "         64: 1,\n",
       "         65: 1,\n",
       "         66: 1,\n",
       "         67: 1,\n",
       "         68: 1,\n",
       "         69: 1,\n",
       "         70: 1,\n",
       "         71: 1,\n",
       "         73: 1,\n",
       "         74: 1,\n",
       "         75: 1,\n",
       "         76: 1,\n",
       "         77: 1,\n",
       "         78: 1,\n",
       "         79: 1,\n",
       "         80: 1,\n",
       "         81: 1,\n",
       "         82: 1,\n",
       "         83: 1,\n",
       "         84: 1,\n",
       "         85: 1,\n",
       "         86: 1,\n",
       "         87: 1,\n",
       "         88: 1,\n",
       "         89: 1})"
      ]
     },
     "metadata": {},
     "execution_count": 20
    }
   ],
   "metadata": {}
  },
  {
   "cell_type": "markdown",
   "source": [
    "### Commento:\r\n",
    "* Modularità pessima\r\n",
    "* 1 unico grande cluster"
   ],
   "metadata": {}
  },
  {
   "cell_type": "markdown",
   "source": [
    "### Osservazioni:\r\n",
    "* In questo caso Louvain produce risultati nettamente migliori"
   ],
   "metadata": {}
  },
  {
   "cell_type": "markdown",
   "source": [
    "## Validazione manuale (quale cluster è vax e quale non)\r\n",
    "Non avendo dati disponibili per una validazione supervisionata si procede manualmente:\r\n",
    "Per ogni cluster si estrae un campione di utenti, e studiandone il feed, si decide se essi siano pro-vax, no-vax o neutrali"
   ],
   "metadata": {}
  },
  {
   "cell_type": "markdown",
   "source": [
    "### Verifichiamo chi sono alcuni di loro con le API di Twitter"
   ],
   "metadata": {}
  },
  {
   "cell_type": "code",
   "execution_count": 22,
   "source": [
    "import tweepy\n",
    "#Configurazione e autenticazione\n",
    "access_token = \"1328983562767519750-dF4HK59zfJrtqmnziHoM7eMHuQZN2F\"  \n",
    "access_token_secret = \"NwYbWnA5rnxkxQISCuvxRk3wG5YVqwstp3w6Uz4uCp8H2\"  \n",
    "consumer_key = \"y3TqPO1ZOOajzhX7Fh0tpc59M\"  \n",
    "consumer_secret = \"ll4t1rp3rrHvsYtzONUhpKemaqFtVWWmEQKOODasdyJwajiUsx\"  \n",
    "\n",
    "auth = tweepy.OAuthHandler(consumer_key, consumer_secret)\n",
    "auth.set_access_token(access_token, access_token_secret)\n",
    "api = tweepy.API(auth, wait_on_rate_limit=True)"
   ],
   "outputs": [],
   "metadata": {}
  },
  {
   "cell_type": "markdown",
   "source": [
    "_____________________________________________________________________________________________________________________________________"
   ],
   "metadata": {}
  },
  {
   "cell_type": "markdown",
   "source": [
    "### Cluster 0"
   ],
   "metadata": {}
  },
  {
   "cell_type": "markdown",
   "source": [
    "_____________________________________________________________________________________________________________________________________"
   ],
   "metadata": {}
  },
  {
   "cell_type": "code",
   "execution_count": 23,
   "source": [
    "print(rev_dict_pages[1], labels_louvain[1])"
   ],
   "outputs": [
    {
     "output_type": "stream",
     "name": "stdout",
     "text": [
      "732817452569141248 0\n"
     ]
    }
   ],
   "metadata": {}
  },
  {
   "cell_type": "code",
   "execution_count": 24,
   "source": [
    "print(api.get_user(732817452569141248).screen_name)"
   ],
   "outputs": [
    {
     "output_type": "stream",
     "name": "stdout",
     "text": [
      "RobertoBurioni\n"
     ]
    }
   ],
   "metadata": {}
  },
  {
   "cell_type": "markdown",
   "source": [
    "NB. dalla presenza di Burioni nel cluster 0 si può intuire che si tratti di quello dei Pro vax"
   ],
   "metadata": {}
  },
  {
   "cell_type": "markdown",
   "source": [
    "***"
   ],
   "metadata": {}
  },
  {
   "cell_type": "code",
   "execution_count": 25,
   "source": [
    "print(rev_dict_pages[811], labels_louvain[811])"
   ],
   "outputs": [
    {
     "output_type": "stream",
     "name": "stdout",
     "text": [
      "86936133 0\n"
     ]
    }
   ],
   "metadata": {}
  },
  {
   "cell_type": "code",
   "execution_count": 62,
   "source": [
    "print(api.get_user(86936133 ).screen_name)"
   ],
   "outputs": [
    {
     "output_type": "stream",
     "name": "stdout",
     "text": [
      "ThManfredi\n"
     ]
    }
   ],
   "metadata": {}
  },
  {
   "cell_type": "markdown",
   "source": [
    "pro vax"
   ],
   "metadata": {}
  },
  {
   "cell_type": "markdown",
   "source": [
    "_____________________________________________________________________________________________________________________________________"
   ],
   "metadata": {}
  },
  {
   "cell_type": "code",
   "execution_count": 27,
   "source": [
    "print(rev_dict_pages[20], labels_louvain[20])"
   ],
   "outputs": [
    {
     "output_type": "stream",
     "name": "stdout",
     "text": [
      "131178507 0\n"
     ]
    }
   ],
   "metadata": {}
  },
  {
   "cell_type": "code",
   "execution_count": 63,
   "source": [
    "print(api.get_user(131178507).screen_name)"
   ],
   "outputs": [
    {
     "output_type": "stream",
     "name": "stdout",
     "text": [
      "marcocongiu\n"
     ]
    }
   ],
   "metadata": {}
  },
  {
   "cell_type": "markdown",
   "source": [
    "***"
   ],
   "metadata": {}
  },
  {
   "cell_type": "code",
   "execution_count": 29,
   "source": [
    "print(rev_dict_pages[947], labels_louvain[947])"
   ],
   "outputs": [
    {
     "output_type": "stream",
     "name": "stdout",
     "text": [
      "106548241 0\n"
     ]
    }
   ],
   "metadata": {}
  },
  {
   "cell_type": "code",
   "execution_count": 64,
   "source": [
    "print(api.get_user(106548241).screen_name)"
   ],
   "outputs": [
    {
     "output_type": "stream",
     "name": "stdout",
     "text": [
      "MarioFurore\n"
     ]
    }
   ],
   "metadata": {}
  },
  {
   "cell_type": "markdown",
   "source": [
    "pro vax"
   ],
   "metadata": {}
  },
  {
   "cell_type": "markdown",
   "source": [
    "_____________________________________________________________________________________________________________________________________"
   ],
   "metadata": {}
  },
  {
   "cell_type": "markdown",
   "source": [
    "### Cluster 1"
   ],
   "metadata": {}
  },
  {
   "cell_type": "markdown",
   "source": [
    "***\r\n"
   ],
   "metadata": {}
  },
  {
   "cell_type": "code",
   "execution_count": 65,
   "source": [
    "print(rev_dict_pages[0], labels_louvain[0])"
   ],
   "outputs": [
    {
     "output_type": "stream",
     "name": "stdout",
     "text": [
      "1024702799215509504 1\n"
     ]
    }
   ],
   "metadata": {}
  },
  {
   "cell_type": "code",
   "execution_count": 66,
   "source": [
    "print(api.get_user(1024702799215509504).screen_name)"
   ],
   "outputs": [
    {
     "output_type": "stream",
     "name": "stdout",
     "text": [
      "EmpfindsamerS\n"
     ]
    }
   ],
   "metadata": {}
  },
  {
   "cell_type": "markdown",
   "source": [
    "no vax"
   ],
   "metadata": {}
  },
  {
   "cell_type": "markdown",
   "source": [
    "***\r\n"
   ],
   "metadata": {}
  },
  {
   "cell_type": "code",
   "execution_count": 69,
   "source": [
    "print(rev_dict_pages[384], labels_louvain[384])"
   ],
   "outputs": [
    {
     "output_type": "stream",
     "name": "stdout",
     "text": [
      "314537220 1\n"
     ]
    }
   ],
   "metadata": {}
  },
  {
   "cell_type": "code",
   "execution_count": 70,
   "source": [
    "mapping_pages[314537220]"
   ],
   "outputs": [
    {
     "output_type": "execute_result",
     "data": {
      "text/plain": [
       "384"
      ]
     },
     "metadata": {},
     "execution_count": 70
    }
   ],
   "metadata": {}
  },
  {
   "cell_type": "code",
   "execution_count": 34,
   "source": [
    "print(api.get_user(103519039).screen_name)"
   ],
   "outputs": [
    {
     "output_type": "stream",
     "name": "stdout",
     "text": [
      "MarikaMori\n"
     ]
    }
   ],
   "metadata": {}
  },
  {
   "cell_type": "markdown",
   "source": [
    "no vax"
   ],
   "metadata": {}
  },
  {
   "cell_type": "markdown",
   "source": [
    "_____________________________________________________________________"
   ],
   "metadata": {}
  },
  {
   "cell_type": "code",
   "execution_count": 72,
   "source": [
    "print(rev_dict_pages[272], labels_louvain[272])"
   ],
   "outputs": [
    {
     "output_type": "stream",
     "name": "stdout",
     "text": [
      "721052101649002497 1\n"
     ]
    }
   ],
   "metadata": {}
  },
  {
   "cell_type": "code",
   "execution_count": 36,
   "source": [
    "print( api.get_user(721052101649002497).screen_name)"
   ],
   "outputs": [
    {
     "output_type": "stream",
     "name": "stdout",
     "text": [
      "Fra_tante3\n"
     ]
    }
   ],
   "metadata": {}
  },
  {
   "cell_type": "markdown",
   "source": [
    "no vax"
   ],
   "metadata": {}
  },
  {
   "cell_type": "markdown",
   "source": [
    "______________________________________________"
   ],
   "metadata": {}
  },
  {
   "cell_type": "code",
   "execution_count": 73,
   "source": [
    "print(rev_dict_pages[762], labels_louvain[762])"
   ],
   "outputs": [
    {
     "output_type": "stream",
     "name": "stdout",
     "text": [
      "1343531349706223618 1\n"
     ]
    }
   ],
   "metadata": {}
  },
  {
   "cell_type": "code",
   "execution_count": 74,
   "source": [
    "print(api.get_user(1343531349706223618).screen_name)"
   ],
   "outputs": [
    {
     "output_type": "stream",
     "name": "stdout",
     "text": [
      "DReqvenge2020\n"
     ]
    }
   ],
   "metadata": {}
  },
  {
   "cell_type": "markdown",
   "source": [
    "no vax"
   ],
   "metadata": {}
  },
  {
   "cell_type": "markdown",
   "source": [
    "______________________________________________"
   ],
   "metadata": {}
  },
  {
   "cell_type": "markdown",
   "source": [
    "## Osservazioni:\r\n",
    "* 1 -> novax\r\n",
    "* 0 -> provax"
   ],
   "metadata": {}
  },
  {
   "cell_type": "markdown",
   "source": [
    "# Polarizzazione\r\n",
    "## Distribuzione vax - novax\r\n",
    "Si sceglie il clustering prodotto da Algoritmo Louvain"
   ],
   "metadata": {}
  },
  {
   "cell_type": "code",
   "execution_count": 39,
   "source": [
    "page_community_df = pd.DataFrame({\"page_id\" : rev_dict_pages.values(), \"community\" : labels_louvain})\n",
    "page_community_df.head()"
   ],
   "outputs": [
    {
     "output_type": "execute_result",
     "data": {
      "text/html": [
       "<div>\n",
       "<style scoped>\n",
       "    .dataframe tbody tr th:only-of-type {\n",
       "        vertical-align: middle;\n",
       "    }\n",
       "\n",
       "    .dataframe tbody tr th {\n",
       "        vertical-align: top;\n",
       "    }\n",
       "\n",
       "    .dataframe thead th {\n",
       "        text-align: right;\n",
       "    }\n",
       "</style>\n",
       "<table border=\"1\" class=\"dataframe\">\n",
       "  <thead>\n",
       "    <tr style=\"text-align: right;\">\n",
       "      <th></th>\n",
       "      <th>page_id</th>\n",
       "      <th>community</th>\n",
       "    </tr>\n",
       "  </thead>\n",
       "  <tbody>\n",
       "    <tr>\n",
       "      <th>0</th>\n",
       "      <td>1024702799215509504</td>\n",
       "      <td>1</td>\n",
       "    </tr>\n",
       "    <tr>\n",
       "      <th>1</th>\n",
       "      <td>732817452569141248</td>\n",
       "      <td>0</td>\n",
       "    </tr>\n",
       "    <tr>\n",
       "      <th>2</th>\n",
       "      <td>765979700808286208</td>\n",
       "      <td>1</td>\n",
       "    </tr>\n",
       "    <tr>\n",
       "      <th>3</th>\n",
       "      <td>1182665278917885955</td>\n",
       "      <td>0</td>\n",
       "    </tr>\n",
       "    <tr>\n",
       "      <th>4</th>\n",
       "      <td>932702612356464642</td>\n",
       "      <td>1</td>\n",
       "    </tr>\n",
       "  </tbody>\n",
       "</table>\n",
       "</div>"
      ],
      "text/plain": [
       "               page_id  community\n",
       "0  1024702799215509504          1\n",
       "1   732817452569141248          0\n",
       "2   765979700808286208          1\n",
       "3  1182665278917885955          0\n",
       "4   932702612356464642          1"
      ]
     },
     "metadata": {},
     "execution_count": 39
    }
   ],
   "metadata": {}
  },
  {
   "cell_type": "markdown",
   "source": [
    "## Conservo solo le pagine dei due cluster principali"
   ],
   "metadata": {}
  },
  {
   "cell_type": "code",
   "execution_count": 40,
   "source": [
    "page_community_df = page_community_df[(page_community_df[\"community\"] == 0) | (page_community_df[\"community\"] == 1)]\n",
    "page_community_df.head()"
   ],
   "outputs": [
    {
     "output_type": "execute_result",
     "data": {
      "text/html": [
       "<div>\n",
       "<style scoped>\n",
       "    .dataframe tbody tr th:only-of-type {\n",
       "        vertical-align: middle;\n",
       "    }\n",
       "\n",
       "    .dataframe tbody tr th {\n",
       "        vertical-align: top;\n",
       "    }\n",
       "\n",
       "    .dataframe thead th {\n",
       "        text-align: right;\n",
       "    }\n",
       "</style>\n",
       "<table border=\"1\" class=\"dataframe\">\n",
       "  <thead>\n",
       "    <tr style=\"text-align: right;\">\n",
       "      <th></th>\n",
       "      <th>page_id</th>\n",
       "      <th>community</th>\n",
       "    </tr>\n",
       "  </thead>\n",
       "  <tbody>\n",
       "    <tr>\n",
       "      <th>0</th>\n",
       "      <td>1024702799215509504</td>\n",
       "      <td>1</td>\n",
       "    </tr>\n",
       "    <tr>\n",
       "      <th>1</th>\n",
       "      <td>732817452569141248</td>\n",
       "      <td>0</td>\n",
       "    </tr>\n",
       "    <tr>\n",
       "      <th>2</th>\n",
       "      <td>765979700808286208</td>\n",
       "      <td>1</td>\n",
       "    </tr>\n",
       "    <tr>\n",
       "      <th>3</th>\n",
       "      <td>1182665278917885955</td>\n",
       "      <td>0</td>\n",
       "    </tr>\n",
       "    <tr>\n",
       "      <th>4</th>\n",
       "      <td>932702612356464642</td>\n",
       "      <td>1</td>\n",
       "    </tr>\n",
       "  </tbody>\n",
       "</table>\n",
       "</div>"
      ],
      "text/plain": [
       "               page_id  community\n",
       "0  1024702799215509504          1\n",
       "1   732817452569141248          0\n",
       "2   765979700808286208          1\n",
       "3  1182665278917885955          0\n",
       "4   932702612356464642          1"
      ]
     },
     "metadata": {},
     "execution_count": 40
    }
   ],
   "metadata": {}
  },
  {
   "cell_type": "markdown",
   "source": [
    "## Conto, per ciascun utente, numero di interazioni con ciascuna community"
   ],
   "metadata": {}
  },
  {
   "cell_type": "code",
   "execution_count": 41,
   "source": [
    "result = pd.merge(df, page_community_df, how=\"inner\", left_on=\"page\", right_on = \"page_id\")\n",
    "result.head()"
   ],
   "outputs": [
    {
     "output_type": "execute_result",
     "data": {
      "text/html": [
       "<div>\n",
       "<style scoped>\n",
       "    .dataframe tbody tr th:only-of-type {\n",
       "        vertical-align: middle;\n",
       "    }\n",
       "\n",
       "    .dataframe tbody tr th {\n",
       "        vertical-align: top;\n",
       "    }\n",
       "\n",
       "    .dataframe thead th {\n",
       "        text-align: right;\n",
       "    }\n",
       "</style>\n",
       "<table border=\"1\" class=\"dataframe\">\n",
       "  <thead>\n",
       "    <tr style=\"text-align: right;\">\n",
       "      <th></th>\n",
       "      <th>page</th>\n",
       "      <th>user</th>\n",
       "      <th>page_id</th>\n",
       "      <th>community</th>\n",
       "    </tr>\n",
       "  </thead>\n",
       "  <tbody>\n",
       "    <tr>\n",
       "      <th>0</th>\n",
       "      <td>2812961</td>\n",
       "      <td>2002721</td>\n",
       "      <td>2812961</td>\n",
       "      <td>0</td>\n",
       "    </tr>\n",
       "    <tr>\n",
       "      <th>1</th>\n",
       "      <td>2812961</td>\n",
       "      <td>2249785528</td>\n",
       "      <td>2812961</td>\n",
       "      <td>0</td>\n",
       "    </tr>\n",
       "    <tr>\n",
       "      <th>2</th>\n",
       "      <td>2812961</td>\n",
       "      <td>921682901212725248</td>\n",
       "      <td>2812961</td>\n",
       "      <td>0</td>\n",
       "    </tr>\n",
       "    <tr>\n",
       "      <th>3</th>\n",
       "      <td>2812961</td>\n",
       "      <td>808215598488489984</td>\n",
       "      <td>2812961</td>\n",
       "      <td>0</td>\n",
       "    </tr>\n",
       "    <tr>\n",
       "      <th>4</th>\n",
       "      <td>2812961</td>\n",
       "      <td>436239851</td>\n",
       "      <td>2812961</td>\n",
       "      <td>0</td>\n",
       "    </tr>\n",
       "  </tbody>\n",
       "</table>\n",
       "</div>"
      ],
      "text/plain": [
       "      page                user  page_id  community\n",
       "0  2812961             2002721  2812961          0\n",
       "1  2812961          2249785528  2812961          0\n",
       "2  2812961  921682901212725248  2812961          0\n",
       "3  2812961  808215598488489984  2812961          0\n",
       "4  2812961           436239851  2812961          0"
      ]
     },
     "metadata": {},
     "execution_count": 41
    }
   ],
   "metadata": {}
  },
  {
   "cell_type": "code",
   "execution_count": 42,
   "source": [
    "count_interact_community  = result.groupby([\"user\", \"community\"]).count().sort_values(\"page\").reset_index()\n",
    "count_interact_community"
   ],
   "outputs": [
    {
     "output_type": "execute_result",
     "data": {
      "text/html": [
       "<div>\n",
       "<style scoped>\n",
       "    .dataframe tbody tr th:only-of-type {\n",
       "        vertical-align: middle;\n",
       "    }\n",
       "\n",
       "    .dataframe tbody tr th {\n",
       "        vertical-align: top;\n",
       "    }\n",
       "\n",
       "    .dataframe thead th {\n",
       "        text-align: right;\n",
       "    }\n",
       "</style>\n",
       "<table border=\"1\" class=\"dataframe\">\n",
       "  <thead>\n",
       "    <tr style=\"text-align: right;\">\n",
       "      <th></th>\n",
       "      <th>user</th>\n",
       "      <th>community</th>\n",
       "      <th>page</th>\n",
       "      <th>page_id</th>\n",
       "    </tr>\n",
       "  </thead>\n",
       "  <tbody>\n",
       "    <tr>\n",
       "      <th>0</th>\n",
       "      <td>1386297698337308676</td>\n",
       "      <td>0</td>\n",
       "      <td>1</td>\n",
       "      <td>1</td>\n",
       "    </tr>\n",
       "    <tr>\n",
       "      <th>1</th>\n",
       "      <td>1025115175798620162</td>\n",
       "      <td>0</td>\n",
       "      <td>1</td>\n",
       "      <td>1</td>\n",
       "    </tr>\n",
       "    <tr>\n",
       "      <th>2</th>\n",
       "      <td>1189450778</td>\n",
       "      <td>0</td>\n",
       "      <td>1</td>\n",
       "      <td>1</td>\n",
       "    </tr>\n",
       "    <tr>\n",
       "      <th>3</th>\n",
       "      <td>1025137091435548672</td>\n",
       "      <td>0</td>\n",
       "      <td>1</td>\n",
       "      <td>1</td>\n",
       "    </tr>\n",
       "    <tr>\n",
       "      <th>4</th>\n",
       "      <td>1189093086</td>\n",
       "      <td>0</td>\n",
       "      <td>1</td>\n",
       "      <td>1</td>\n",
       "    </tr>\n",
       "    <tr>\n",
       "      <th>...</th>\n",
       "      <td>...</td>\n",
       "      <td>...</td>\n",
       "      <td>...</td>\n",
       "      <td>...</td>\n",
       "    </tr>\n",
       "    <tr>\n",
       "      <th>31964</th>\n",
       "      <td>971816547898490881</td>\n",
       "      <td>1</td>\n",
       "      <td>176</td>\n",
       "      <td>176</td>\n",
       "    </tr>\n",
       "    <tr>\n",
       "      <th>31965</th>\n",
       "      <td>1322010178078859264</td>\n",
       "      <td>1</td>\n",
       "      <td>179</td>\n",
       "      <td>179</td>\n",
       "    </tr>\n",
       "    <tr>\n",
       "      <th>31966</th>\n",
       "      <td>4160203479</td>\n",
       "      <td>1</td>\n",
       "      <td>185</td>\n",
       "      <td>185</td>\n",
       "    </tr>\n",
       "    <tr>\n",
       "      <th>31967</th>\n",
       "      <td>742397759991480320</td>\n",
       "      <td>1</td>\n",
       "      <td>234</td>\n",
       "      <td>234</td>\n",
       "    </tr>\n",
       "    <tr>\n",
       "      <th>31968</th>\n",
       "      <td>1158758131448590336</td>\n",
       "      <td>1</td>\n",
       "      <td>251</td>\n",
       "      <td>251</td>\n",
       "    </tr>\n",
       "  </tbody>\n",
       "</table>\n",
       "<p>31969 rows × 4 columns</p>\n",
       "</div>"
      ],
      "text/plain": [
       "                      user  community  page  page_id\n",
       "0      1386297698337308676          0     1        1\n",
       "1      1025115175798620162          0     1        1\n",
       "2               1189450778          0     1        1\n",
       "3      1025137091435548672          0     1        1\n",
       "4               1189093086          0     1        1\n",
       "...                    ...        ...   ...      ...\n",
       "31964   971816547898490881          1   176      176\n",
       "31965  1322010178078859264          1   179      179\n",
       "31966           4160203479          1   185      185\n",
       "31967   742397759991480320          1   234      234\n",
       "31968  1158758131448590336          1   251      251\n",
       "\n",
       "[31969 rows x 4 columns]"
      ]
     },
     "metadata": {},
     "execution_count": 42
    }
   ],
   "metadata": {}
  },
  {
   "cell_type": "markdown",
   "source": [
    "Si osserva che molti utenti interagiscono con entrambe le community, per cui la polarizzazione non è immediata:"
   ],
   "metadata": {}
  },
  {
   "cell_type": "code",
   "execution_count": 43,
   "source": [
    "tmp = count_interact_community.groupby(\"user\").count().reset_index()\n",
    "tmp[tmp[\"community\"] >= 2][[\"user\", \"community\"]]"
   ],
   "outputs": [
    {
     "output_type": "execute_result",
     "data": {
      "text/html": [
       "<div>\n",
       "<style scoped>\n",
       "    .dataframe tbody tr th:only-of-type {\n",
       "        vertical-align: middle;\n",
       "    }\n",
       "\n",
       "    .dataframe tbody tr th {\n",
       "        vertical-align: top;\n",
       "    }\n",
       "\n",
       "    .dataframe thead th {\n",
       "        text-align: right;\n",
       "    }\n",
       "</style>\n",
       "<table border=\"1\" class=\"dataframe\">\n",
       "  <thead>\n",
       "    <tr style=\"text-align: right;\">\n",
       "      <th></th>\n",
       "      <th>user</th>\n",
       "      <th>community</th>\n",
       "    </tr>\n",
       "  </thead>\n",
       "  <tbody>\n",
       "    <tr>\n",
       "      <th>16</th>\n",
       "      <td>817997</td>\n",
       "      <td>2</td>\n",
       "    </tr>\n",
       "    <tr>\n",
       "      <th>70</th>\n",
       "      <td>8960282</td>\n",
       "      <td>2</td>\n",
       "    </tr>\n",
       "    <tr>\n",
       "      <th>81</th>\n",
       "      <td>9437162</td>\n",
       "      <td>2</td>\n",
       "    </tr>\n",
       "    <tr>\n",
       "      <th>97</th>\n",
       "      <td>10350822</td>\n",
       "      <td>2</td>\n",
       "    </tr>\n",
       "    <tr>\n",
       "      <th>123</th>\n",
       "      <td>12194852</td>\n",
       "      <td>2</td>\n",
       "    </tr>\n",
       "    <tr>\n",
       "      <th>...</th>\n",
       "      <td>...</td>\n",
       "      <td>...</td>\n",
       "    </tr>\n",
       "    <tr>\n",
       "      <th>29882</th>\n",
       "      <td>1367024121515827201</td>\n",
       "      <td>2</td>\n",
       "    </tr>\n",
       "    <tr>\n",
       "      <th>29887</th>\n",
       "      <td>1367131266060070912</td>\n",
       "      <td>2</td>\n",
       "    </tr>\n",
       "    <tr>\n",
       "      <th>29890</th>\n",
       "      <td>1367147372883701761</td>\n",
       "      <td>2</td>\n",
       "    </tr>\n",
       "    <tr>\n",
       "      <th>29922</th>\n",
       "      <td>1367773666155626499</td>\n",
       "      <td>2</td>\n",
       "    </tr>\n",
       "    <tr>\n",
       "      <th>29942</th>\n",
       "      <td>1368321261311557639</td>\n",
       "      <td>2</td>\n",
       "    </tr>\n",
       "  </tbody>\n",
       "</table>\n",
       "<p>2012 rows × 2 columns</p>\n",
       "</div>"
      ],
      "text/plain": [
       "                      user  community\n",
       "16                  817997          2\n",
       "70                 8960282          2\n",
       "81                 9437162          2\n",
       "97                10350822          2\n",
       "123               12194852          2\n",
       "...                    ...        ...\n",
       "29882  1367024121515827201          2\n",
       "29887  1367131266060070912          2\n",
       "29890  1367147372883701761          2\n",
       "29922  1367773666155626499          2\n",
       "29942  1368321261311557639          2\n",
       "\n",
       "[2012 rows x 2 columns]"
      ]
     },
     "metadata": {},
     "execution_count": 43
    }
   ],
   "metadata": {}
  },
  {
   "cell_type": "code",
   "execution_count": 44,
   "source": [
    "del tmp"
   ],
   "outputs": [],
   "metadata": {}
  },
  {
   "cell_type": "markdown",
   "source": [
    "Ad es. l'utente seguente:"
   ],
   "metadata": {}
  },
  {
   "cell_type": "code",
   "execution_count": 45,
   "source": [
    "result[result[\"user\"] == 8960282]"
   ],
   "outputs": [
    {
     "output_type": "execute_result",
     "data": {
      "text/html": [
       "<div>\n",
       "<style scoped>\n",
       "    .dataframe tbody tr th:only-of-type {\n",
       "        vertical-align: middle;\n",
       "    }\n",
       "\n",
       "    .dataframe tbody tr th {\n",
       "        vertical-align: top;\n",
       "    }\n",
       "\n",
       "    .dataframe thead th {\n",
       "        text-align: right;\n",
       "    }\n",
       "</style>\n",
       "<table border=\"1\" class=\"dataframe\">\n",
       "  <thead>\n",
       "    <tr style=\"text-align: right;\">\n",
       "      <th></th>\n",
       "      <th>page</th>\n",
       "      <th>user</th>\n",
       "      <th>page_id</th>\n",
       "      <th>community</th>\n",
       "    </tr>\n",
       "  </thead>\n",
       "  <tbody>\n",
       "    <tr>\n",
       "      <th>32185</th>\n",
       "      <td>840370952</td>\n",
       "      <td>8960282</td>\n",
       "      <td>840370952</td>\n",
       "      <td>0</td>\n",
       "    </tr>\n",
       "    <tr>\n",
       "      <th>39274</th>\n",
       "      <td>1320662809248780288</td>\n",
       "      <td>8960282</td>\n",
       "      <td>1320662809248780288</td>\n",
       "      <td>0</td>\n",
       "    </tr>\n",
       "    <tr>\n",
       "      <th>40314</th>\n",
       "      <td>368588066</td>\n",
       "      <td>8960282</td>\n",
       "      <td>368588066</td>\n",
       "      <td>0</td>\n",
       "    </tr>\n",
       "    <tr>\n",
       "      <th>40632</th>\n",
       "      <td>429391019</td>\n",
       "      <td>8960282</td>\n",
       "      <td>429391019</td>\n",
       "      <td>0</td>\n",
       "    </tr>\n",
       "    <tr>\n",
       "      <th>42820</th>\n",
       "      <td>1169254465632972800</td>\n",
       "      <td>8960282</td>\n",
       "      <td>1169254465632972800</td>\n",
       "      <td>1</td>\n",
       "    </tr>\n",
       "    <tr>\n",
       "      <th>47618</th>\n",
       "      <td>3300404680</td>\n",
       "      <td>8960282</td>\n",
       "      <td>3300404680</td>\n",
       "      <td>0</td>\n",
       "    </tr>\n",
       "    <tr>\n",
       "      <th>52511</th>\n",
       "      <td>11170692</td>\n",
       "      <td>8960282</td>\n",
       "      <td>11170692</td>\n",
       "      <td>1</td>\n",
       "    </tr>\n",
       "    <tr>\n",
       "      <th>54741</th>\n",
       "      <td>104170025</td>\n",
       "      <td>8960282</td>\n",
       "      <td>104170025</td>\n",
       "      <td>1</td>\n",
       "    </tr>\n",
       "    <tr>\n",
       "      <th>56662</th>\n",
       "      <td>3096871079</td>\n",
       "      <td>8960282</td>\n",
       "      <td>3096871079</td>\n",
       "      <td>1</td>\n",
       "    </tr>\n",
       "    <tr>\n",
       "      <th>77867</th>\n",
       "      <td>2719470235</td>\n",
       "      <td>8960282</td>\n",
       "      <td>2719470235</td>\n",
       "      <td>0</td>\n",
       "    </tr>\n",
       "    <tr>\n",
       "      <th>77883</th>\n",
       "      <td>2719470235</td>\n",
       "      <td>8960282</td>\n",
       "      <td>2719470235</td>\n",
       "      <td>0</td>\n",
       "    </tr>\n",
       "    <tr>\n",
       "      <th>87140</th>\n",
       "      <td>1322898938748375041</td>\n",
       "      <td>8960282</td>\n",
       "      <td>1322898938748375041</td>\n",
       "      <td>1</td>\n",
       "    </tr>\n",
       "    <tr>\n",
       "      <th>88041</th>\n",
       "      <td>117407713</td>\n",
       "      <td>8960282</td>\n",
       "      <td>117407713</td>\n",
       "      <td>1</td>\n",
       "    </tr>\n",
       "    <tr>\n",
       "      <th>89538</th>\n",
       "      <td>989423077</td>\n",
       "      <td>8960282</td>\n",
       "      <td>989423077</td>\n",
       "      <td>1</td>\n",
       "    </tr>\n",
       "  </tbody>\n",
       "</table>\n",
       "</div>"
      ],
      "text/plain": [
       "                      page     user              page_id  community\n",
       "32185            840370952  8960282            840370952          0\n",
       "39274  1320662809248780288  8960282  1320662809248780288          0\n",
       "40314            368588066  8960282            368588066          0\n",
       "40632            429391019  8960282            429391019          0\n",
       "42820  1169254465632972800  8960282  1169254465632972800          1\n",
       "47618           3300404680  8960282           3300404680          0\n",
       "52511             11170692  8960282             11170692          1\n",
       "54741            104170025  8960282            104170025          1\n",
       "56662           3096871079  8960282           3096871079          1\n",
       "77867           2719470235  8960282           2719470235          0\n",
       "77883           2719470235  8960282           2719470235          0\n",
       "87140  1322898938748375041  8960282  1322898938748375041          1\n",
       "88041            117407713  8960282            117407713          1\n",
       "89538            989423077  8960282            989423077          1"
      ]
     },
     "metadata": {},
     "execution_count": 45
    }
   ],
   "metadata": {}
  },
  {
   "cell_type": "code",
   "execution_count": 46,
   "source": [
    "count_interact_community_pivot = count_interact_community.pivot(index = \"user\", columns=\"community\", values = \"page\")\n",
    "count_interact_community_pivot.fillna(0, inplace = True)\n",
    "count_interact_community_pivot"
   ],
   "outputs": [
    {
     "output_type": "execute_result",
     "data": {
      "text/html": [
       "<div>\n",
       "<style scoped>\n",
       "    .dataframe tbody tr th:only-of-type {\n",
       "        vertical-align: middle;\n",
       "    }\n",
       "\n",
       "    .dataframe tbody tr th {\n",
       "        vertical-align: top;\n",
       "    }\n",
       "\n",
       "    .dataframe thead th {\n",
       "        text-align: right;\n",
       "    }\n",
       "</style>\n",
       "<table border=\"1\" class=\"dataframe\">\n",
       "  <thead>\n",
       "    <tr style=\"text-align: right;\">\n",
       "      <th>community</th>\n",
       "      <th>0</th>\n",
       "      <th>1</th>\n",
       "    </tr>\n",
       "    <tr>\n",
       "      <th>user</th>\n",
       "      <th></th>\n",
       "      <th></th>\n",
       "    </tr>\n",
       "  </thead>\n",
       "  <tbody>\n",
       "    <tr>\n",
       "      <th>3637</th>\n",
       "      <td>2.0</td>\n",
       "      <td>0.0</td>\n",
       "    </tr>\n",
       "    <tr>\n",
       "      <th>382393</th>\n",
       "      <td>1.0</td>\n",
       "      <td>0.0</td>\n",
       "    </tr>\n",
       "    <tr>\n",
       "      <th>447813</th>\n",
       "      <td>2.0</td>\n",
       "      <td>0.0</td>\n",
       "    </tr>\n",
       "    <tr>\n",
       "      <th>507413</th>\n",
       "      <td>2.0</td>\n",
       "      <td>0.0</td>\n",
       "    </tr>\n",
       "    <tr>\n",
       "      <th>617033</th>\n",
       "      <td>2.0</td>\n",
       "      <td>0.0</td>\n",
       "    </tr>\n",
       "    <tr>\n",
       "      <th>...</th>\n",
       "      <td>...</td>\n",
       "      <td>...</td>\n",
       "    </tr>\n",
       "    <tr>\n",
       "      <th>1377601106969305088</th>\n",
       "      <td>0.0</td>\n",
       "      <td>1.0</td>\n",
       "    </tr>\n",
       "    <tr>\n",
       "      <th>1377977208929665026</th>\n",
       "      <td>2.0</td>\n",
       "      <td>0.0</td>\n",
       "    </tr>\n",
       "    <tr>\n",
       "      <th>1383442582768820235</th>\n",
       "      <td>0.0</td>\n",
       "      <td>1.0</td>\n",
       "    </tr>\n",
       "    <tr>\n",
       "      <th>1383748136716304392</th>\n",
       "      <td>2.0</td>\n",
       "      <td>0.0</td>\n",
       "    </tr>\n",
       "    <tr>\n",
       "      <th>1386297698337308676</th>\n",
       "      <td>1.0</td>\n",
       "      <td>0.0</td>\n",
       "    </tr>\n",
       "  </tbody>\n",
       "</table>\n",
       "<p>29957 rows × 2 columns</p>\n",
       "</div>"
      ],
      "text/plain": [
       "community              0    1\n",
       "user                         \n",
       "3637                 2.0  0.0\n",
       "382393               1.0  0.0\n",
       "447813               2.0  0.0\n",
       "507413               2.0  0.0\n",
       "617033               2.0  0.0\n",
       "...                  ...  ...\n",
       "1377601106969305088  0.0  1.0\n",
       "1377977208929665026  2.0  0.0\n",
       "1383442582768820235  0.0  1.0\n",
       "1383748136716304392  2.0  0.0\n",
       "1386297698337308676  1.0  0.0\n",
       "\n",
       "[29957 rows x 2 columns]"
      ]
     },
     "metadata": {},
     "execution_count": 46
    }
   ],
   "metadata": {}
  },
  {
   "cell_type": "markdown",
   "source": [
    "## Si considerano solo utenti con almeno 10 interazioni"
   ],
   "metadata": {}
  },
  {
   "cell_type": "code",
   "execution_count": 47,
   "source": [
    "count_interact_community_pivot = count_interact_community_pivot[count_interact_community_pivot[0] + count_interact_community_pivot[1] > 10]\n",
    "count_interact_community_pivot"
   ],
   "outputs": [
    {
     "output_type": "execute_result",
     "data": {
      "text/html": [
       "<div>\n",
       "<style scoped>\n",
       "    .dataframe tbody tr th:only-of-type {\n",
       "        vertical-align: middle;\n",
       "    }\n",
       "\n",
       "    .dataframe tbody tr th {\n",
       "        vertical-align: top;\n",
       "    }\n",
       "\n",
       "    .dataframe thead th {\n",
       "        text-align: right;\n",
       "    }\n",
       "</style>\n",
       "<table border=\"1\" class=\"dataframe\">\n",
       "  <thead>\n",
       "    <tr style=\"text-align: right;\">\n",
       "      <th>community</th>\n",
       "      <th>0</th>\n",
       "      <th>1</th>\n",
       "    </tr>\n",
       "    <tr>\n",
       "      <th>user</th>\n",
       "      <th></th>\n",
       "      <th></th>\n",
       "    </tr>\n",
       "  </thead>\n",
       "  <tbody>\n",
       "    <tr>\n",
       "      <th>2002721</th>\n",
       "      <td>15.0</td>\n",
       "      <td>0.0</td>\n",
       "    </tr>\n",
       "    <tr>\n",
       "      <th>6012422</th>\n",
       "      <td>0.0</td>\n",
       "      <td>11.0</td>\n",
       "    </tr>\n",
       "    <tr>\n",
       "      <th>8960282</th>\n",
       "      <td>7.0</td>\n",
       "      <td>7.0</td>\n",
       "    </tr>\n",
       "    <tr>\n",
       "      <th>10282412</th>\n",
       "      <td>24.0</td>\n",
       "      <td>0.0</td>\n",
       "    </tr>\n",
       "    <tr>\n",
       "      <th>14073125</th>\n",
       "      <td>35.0</td>\n",
       "      <td>0.0</td>\n",
       "    </tr>\n",
       "    <tr>\n",
       "      <th>...</th>\n",
       "      <td>...</td>\n",
       "      <td>...</td>\n",
       "    </tr>\n",
       "    <tr>\n",
       "      <th>1367147372883701761</th>\n",
       "      <td>1.0</td>\n",
       "      <td>14.0</td>\n",
       "    </tr>\n",
       "    <tr>\n",
       "      <th>1367203155440771082</th>\n",
       "      <td>0.0</td>\n",
       "      <td>15.0</td>\n",
       "    </tr>\n",
       "    <tr>\n",
       "      <th>1367413195279904768</th>\n",
       "      <td>11.0</td>\n",
       "      <td>0.0</td>\n",
       "    </tr>\n",
       "    <tr>\n",
       "      <th>1367476274583777283</th>\n",
       "      <td>0.0</td>\n",
       "      <td>71.0</td>\n",
       "    </tr>\n",
       "    <tr>\n",
       "      <th>1367582151475159050</th>\n",
       "      <td>0.0</td>\n",
       "      <td>13.0</td>\n",
       "    </tr>\n",
       "  </tbody>\n",
       "</table>\n",
       "<p>1857 rows × 2 columns</p>\n",
       "</div>"
      ],
      "text/plain": [
       "community               0     1\n",
       "user                           \n",
       "2002721              15.0   0.0\n",
       "6012422               0.0  11.0\n",
       "8960282               7.0   7.0\n",
       "10282412             24.0   0.0\n",
       "14073125             35.0   0.0\n",
       "...                   ...   ...\n",
       "1367147372883701761   1.0  14.0\n",
       "1367203155440771082   0.0  15.0\n",
       "1367413195279904768  11.0   0.0\n",
       "1367476274583777283   0.0  71.0\n",
       "1367582151475159050   0.0  13.0\n",
       "\n",
       "[1857 rows x 2 columns]"
      ]
     },
     "metadata": {},
     "execution_count": 47
    }
   ],
   "metadata": {}
  },
  {
   "cell_type": "markdown",
   "source": [
    "# Costruzione della PDF"
   ],
   "metadata": {}
  },
  {
   "cell_type": "code",
   "execution_count": 48,
   "source": [
    "def polarization(pos, neg):\n",
    "    return (pos-neg)/(pos+neg)"
   ],
   "outputs": [],
   "metadata": {}
  },
  {
   "cell_type": "code",
   "execution_count": 49,
   "source": [
    "def polarization_neutral(pos,neg,neut):\n",
    "    N = pos+neg+neut\n",
    "    a = (pos-neg)/(pos+neg)\n",
    "    return a - a*neut/N"
   ],
   "outputs": [],
   "metadata": {}
  },
  {
   "cell_type": "code",
   "execution_count": 50,
   "source": [
    "data = polarization(count_interact_community_pivot[0], count_interact_community_pivot[1]).to_numpy()\n",
    "data"
   ],
   "outputs": [
    {
     "output_type": "execute_result",
     "data": {
      "text/plain": [
       "array([ 1., -1.,  0., ...,  1., -1., -1.])"
      ]
     },
     "metadata": {},
     "execution_count": 50
    }
   ],
   "metadata": {}
  },
  {
   "cell_type": "markdown",
   "source": [
    "## Kernel Density Estimation"
   ],
   "metadata": {}
  },
  {
   "cell_type": "code",
   "execution_count": 51,
   "source": [
    "from scipy.stats.kde import gaussian_kde\n",
    "from numpy import linspace\n",
    "from matplotlib import pyplot as plt\n",
    "from scipy.signal import find_peaks\n",
    "\n",
    "kde = gaussian_kde(data)\n",
    "dist_space = linspace(min(data), max(data), 100)\n",
    "x = kde(dist_space)\n",
    "peaks, _ = find_peaks(x, distance=50)"
   ],
   "outputs": [],
   "metadata": {}
  },
  {
   "cell_type": "code",
   "execution_count": 52,
   "source": [
    "fig = plt.figure()\n",
    "ax = fig.add_subplot(111)\n",
    "ax.set_title(f\"PDF of users Polarization over week {week}\", pad = 10)\n",
    "ax.grid(alpha = 0.5)\n",
    "ax.axvline(0, color = \"black\", linestyle='--', alpha = 0.5)\n",
    "ax.plot(dist_space[peaks], x[peaks], \"o\")\n",
    "ax.plot(dist_space, x, color = \"limegreen\")\n",
    "ax.set_xlabel('Polarization', fontsize=9)\n",
    "ax.set_ylabel('PDF', fontsize=9)\n",
    "ax.set_ylim(0,1.1)\n",
    "ax.text(0.9, 0.05, 'Pro', style='italic', color = \"b\")\n",
    "ax.text(-1, 0.05, 'Contro', style='italic', color = \"r\")\n",
    "plt.show()"
   ],
   "outputs": [
    {
     "output_type": "display_data",
     "data": {
      "image/png": "[encoded data removed]",
      "text/plain": [
       "<Figure size 432x288 with 1 Axes>"
      ]
     },
     "metadata": {
      "needs_background": "light"
     }
    }
   ],
   "metadata": {}
  },
  {
   "cell_type": "markdown",
   "source": [
    "## Osservazioni:\r\n",
    "* Distribuzione bimodale"
   ],
   "metadata": {}
  },
  {
   "cell_type": "code",
   "execution_count": 53,
   "source": [
    "plt.hist(data, bins = 20)"
   ],
   "outputs": [
    {
     "output_type": "execute_result",
     "data": {
      "text/plain": [
       "(array([640., 140.,  55.,  37.,  14.,  21.,  13.,   7.,   3.,   1.,  14.,\n",
       "          4.,   4.,   5.,   2.,  19.,   6.,  24.,  63., 785.]),\n",
       " array([-1. , -0.9, -0.8, -0.7, -0.6, -0.5, -0.4, -0.3, -0.2, -0.1,  0. ,\n",
       "         0.1,  0.2,  0.3,  0.4,  0.5,  0.6,  0.7,  0.8,  0.9,  1. ]),\n",
       " <BarContainer object of 20 artists>)"
      ]
     },
     "metadata": {},
     "execution_count": 53
    },
    {
     "output_type": "display_data",
     "data": {
      "image/png": "[encoded data removed]",
      "text/plain": [
       "<Figure size 432x288 with 1 Axes>"
      ]
     },
     "metadata": {
      "needs_background": "light"
     }
    }
   ],
   "metadata": {}
  },
  {
   "cell_type": "markdown",
   "source": [
    "## Osservazioni:\r\n",
    "* Distribuzione bimodale"
   ],
   "metadata": {}
  },
  {
   "cell_type": "markdown",
   "source": [
    "## Test statistico di bimodalità (Dip Test)\r\n",
    "H_0 : Distribuzione unimodale"
   ],
   "metadata": {}
  },
  {
   "cell_type": "code",
   "execution_count": 54,
   "source": [
    "import unidip.dip as dip\r\n",
    "\r\n",
    "data = np.msort(data)\r\n",
    "test = dip.diptst(data)\r\n",
    "print(test) #dip, pvalue, indices"
   ],
   "outputs": [
    {
     "output_type": "stream",
     "name": "stdout",
     "text": [
      "(0.19978459881529348, 0.000999000999000999, (255, 255))\n"
     ]
    }
   ],
   "metadata": {}
  },
  {
   "cell_type": "markdown",
   "source": [
    "Si rifiuta ipotesi nulla di unimodalità con confidenza del 1 %"
   ],
   "metadata": {}
  },
  {
   "cell_type": "markdown",
   "source": [
    "## Bimodality Coeff"
   ],
   "metadata": {}
  },
  {
   "cell_type": "code",
   "execution_count": 55,
   "source": [
    "from scipy.stats import kurtosis, skew\r\n",
    "def bimodality_coeff(distr):\r\n",
    "    g = skew(distr)\r\n",
    "    k = kurtosis(distr)\r\n",
    "    n = len(distr)\r\n",
    "    return (g**2 + 1) / (k + 3*(n-1)**2/((n-2)*(n-3)))"
   ],
   "outputs": [],
   "metadata": {}
  },
  {
   "cell_type": "code",
   "execution_count": 56,
   "source": [
    "bc = bimodality_coeff(data)\r\n",
    "bc"
   ],
   "outputs": [
    {
     "output_type": "execute_result",
     "data": {
      "text/plain": [
       "0.9353400664234828"
      ]
     },
     "metadata": {},
     "execution_count": 56
    }
   ],
   "metadata": {}
  },
  {
   "cell_type": "code",
   "execution_count": 57,
   "source": [
    "def bimodality_ratio(a,b):\r\n",
    "    return a/b if a < b else b/a"
   ],
   "outputs": [],
   "metadata": {}
  },
  {
   "cell_type": "code",
   "execution_count": 58,
   "source": [
    "bimodal_ratio = bimodality_ratio(*list(x[peaks]))\r\n",
    "bimodal_ratio"
   ],
   "outputs": [
    {
     "output_type": "execute_result",
     "data": {
      "text/plain": [
       "0.9450385806170641"
      ]
     },
     "metadata": {},
     "execution_count": 58
    }
   ],
   "metadata": {}
  },
  {
   "cell_type": "code",
   "execution_count": 59,
   "source": [
    "bc*bimodal_ratio"
   ],
   "outputs": [
    {
     "output_type": "execute_result",
     "data": {
      "text/plain": [
       "0.8839324487671186"
      ]
     },
     "metadata": {},
     "execution_count": 59
    }
   ],
   "metadata": {}
  },
  {
   "cell_type": "code",
   "execution_count": 60,
   "source": [
    "import pickle\r\n",
    "\r\n",
    "with open(\"polarization.pickle\", \"ab\") as file:\r\n",
    "    pickle.dump({\"week\" : week, \"bimodality_coeff\" : bc, \"bimodality_ratio\" : bimodal_ratio, \"dip_stat\" : test[0]}, file)"
   ],
   "outputs": [],
   "metadata": {}
  }
 ],
 "metadata": {
  "orig_nbformat": 4,
  "language_info": {
   "name": "python",
   "version": "3.6.9",
   "mimetype": "text/x-python",
   "codemirror_mode": {
    "name": "ipython",
    "version": 3
   },
   "pygments_lexer": "ipython3",
   "nbconvert_exporter": "python",
   "file_extension": ".py"
  },
  "kernelspec": {
   "name": "python3",
   "display_name": "Python 3.6.9 64-bit"
  },
  "interpreter": {
   "hash": "31f2aee4e71d21fbe5cf8b01ff0e069b9275f58929596ceb00d14d90e3e16cd6"
  }
 },
 "nbformat": 4,
 "nbformat_minor": 2
}